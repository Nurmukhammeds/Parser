{
 "cells": [
  {
   "cell_type": "code",
   "execution_count": 1,
   "metadata": {},
   "outputs": [],
   "source": [
    "import pandas as pd\n",
    "import numpy as np"
   ]
  },
  {
   "cell_type": "code",
   "execution_count": 20,
   "metadata": {},
   "outputs": [],
   "source": [
    "txt=  pd.read_csv('main.txt',header = None,delimiter='\\\\')\n",
    "file = pd.read_excel('file.xlsx')"
   ]
  },
  {
   "cell_type": "code",
   "execution_count": null,
   "metadata": {},
   "outputs": [],
   "source": []
  },
  {
   "cell_type": "code",
   "execution_count": 19,
   "metadata": {},
   "outputs": [
    {
     "data": {
      "text/html": [
       "<div>\n",
       "<style scoped>\n",
       "    .dataframe tbody tr th:only-of-type {\n",
       "        vertical-align: middle;\n",
       "    }\n",
       "\n",
       "    .dataframe tbody tr th {\n",
       "        vertical-align: top;\n",
       "    }\n",
       "\n",
       "    .dataframe thead th {\n",
       "        text-align: right;\n",
       "    }\n",
       "</style>\n",
       "<table border=\"1\" class=\"dataframe\">\n",
       "  <thead>\n",
       "    <tr style=\"text-align: right;\">\n",
       "      <th></th>\n",
       "      <th>0</th>\n",
       "    </tr>\n",
       "  </thead>\n",
       "  <tbody>\n",
       "    <tr>\n",
       "      <th>0</th>\n",
       "      <td>Ресторан, Летняя террасаKorean House на Кабанб...</td>\n",
       "    </tr>\n",
       "    <tr>\n",
       "      <th>1</th>\n",
       "      <td>Ресторан, Летняя террасаKorean House на Гоголя...</td>\n",
       "    </tr>\n",
       "    <tr>\n",
       "      <th>2</th>\n",
       "      <td>РесторанKorean House в Esentai MallБизнес-ланч...</td>\n",
       "    </tr>\n",
       "    <tr>\n",
       "      <th>3</th>\n",
       "      <td>Бар / паб, Летняя терраса, Ресторан2.2КухняСер...</td>\n",
       "    </tr>\n",
       "    <tr>\n",
       "      <th>4</th>\n",
       "      <td>Стейк-хаус, Ресторан, Летняя терраса1.7КухняСе...</td>\n",
       "    </tr>\n",
       "    <tr>\n",
       "      <th>...</th>\n",
       "      <td>...</td>\n",
       "    </tr>\n",
       "    <tr>\n",
       "      <th>351</th>\n",
       "      <td>Ресторан, Летняя терраса, Бар / паб, Доставка ...</td>\n",
       "    </tr>\n",
       "    <tr>\n",
       "      <th>352</th>\n",
       "      <td>Ресторан, Летняя террасаГаккуWiFiФоновая музык...</td>\n",
       "    </tr>\n",
       "    <tr>\n",
       "      <th>353</th>\n",
       "      <td>Ресторан, Летняя террасаКишлакWiFiКальянVIP-за...</td>\n",
       "    </tr>\n",
       "    <tr>\n",
       "      <th>354</th>\n",
       "      <td>Ресторан, Летняя террасаТрактиръ Медведь на Аб...</td>\n",
       "    </tr>\n",
       "    <tr>\n",
       "      <th>355</th>\n",
       "      <td>Ресторан, Летняя террасаГостиWiFiФоновая музык...</td>\n",
       "    </tr>\n",
       "  </tbody>\n",
       "</table>\n",
       "<p>356 rows × 1 columns</p>\n",
       "</div>"
      ],
      "text/plain": [
       "                                                     0\n",
       "0    Ресторан, Летняя террасаKorean House на Кабанб...\n",
       "1    Ресторан, Летняя террасаKorean House на Гоголя...\n",
       "2    РесторанKorean House в Esentai MallБизнес-ланч...\n",
       "3    Бар / паб, Летняя терраса, Ресторан2.2КухняСер...\n",
       "4    Стейк-хаус, Ресторан, Летняя терраса1.7КухняСе...\n",
       "..                                                 ...\n",
       "351  Ресторан, Летняя терраса, Бар / паб, Доставка ...\n",
       "352  Ресторан, Летняя террасаГаккуWiFiФоновая музык...\n",
       "353  Ресторан, Летняя террасаКишлакWiFiКальянVIP-за...\n",
       "354  Ресторан, Летняя террасаТрактиръ Медведь на Аб...\n",
       "355  Ресторан, Летняя террасаГостиWiFiФоновая музык...\n",
       "\n",
       "[356 rows x 1 columns]"
      ]
     },
     "execution_count": 19,
     "metadata": {},
     "output_type": "execute_result"
    }
   ],
   "source": [
    "txt"
   ]
  },
  {
   "cell_type": "code",
   "execution_count": 21,
   "metadata": {},
   "outputs": [
    {
     "data": {
      "text/html": [
       "<div>\n",
       "<style scoped>\n",
       "    .dataframe tbody tr th:only-of-type {\n",
       "        vertical-align: middle;\n",
       "    }\n",
       "\n",
       "    .dataframe tbody tr th {\n",
       "        vertical-align: top;\n",
       "    }\n",
       "\n",
       "    .dataframe thead th {\n",
       "        text-align: right;\n",
       "    }\n",
       "</style>\n",
       "<table border=\"1\" class=\"dataframe\">\n",
       "  <thead>\n",
       "    <tr style=\"text-align: right;\">\n",
       "      <th></th>\n",
       "      <th>Сайт:</th>\n",
       "      <th>Ссылка:</th>\n",
       "      <th>Заведения:</th>\n",
       "      <th>Кухни:</th>\n",
       "    </tr>\n",
       "  </thead>\n",
       "  <tbody>\n",
       "    <tr>\n",
       "      <th>0</th>\n",
       "      <td>Restolife</td>\n",
       "      <td>https://restolife.kz/restoran/</td>\n",
       "      <td>Жасмин</td>\n",
       "      <td>Восточная, Европейская</td>\n",
       "    </tr>\n",
       "    <tr>\n",
       "      <th>1</th>\n",
       "      <td>Restolife</td>\n",
       "      <td>https://restolife.kz/restoran/</td>\n",
       "      <td>Император</td>\n",
       "      <td>Восточная, Европейская, Казахская</td>\n",
       "    </tr>\n",
       "    <tr>\n",
       "      <th>2</th>\n",
       "      <td>Restolife</td>\n",
       "      <td>https://restolife.kz/restoran/</td>\n",
       "      <td>Мирас</td>\n",
       "      <td>Восточная, Европейская, Казахская</td>\n",
       "    </tr>\n",
       "    <tr>\n",
       "      <th>3</th>\n",
       "      <td>Restolife</td>\n",
       "      <td>https://restolife.kz/restoran/</td>\n",
       "      <td>DAPANJI Bahyt</td>\n",
       "      <td>Китайская, Европейская</td>\n",
       "    </tr>\n",
       "    <tr>\n",
       "      <th>4</th>\n",
       "      <td>Restolife</td>\n",
       "      <td>https://restolife.kz/restoran/</td>\n",
       "      <td>Ocean Basket Esentai</td>\n",
       "      <td>Морепродукты, Средиземноморская, Японская</td>\n",
       "    </tr>\n",
       "    <tr>\n",
       "      <th>...</th>\n",
       "      <td>...</td>\n",
       "      <td>...</td>\n",
       "      <td>...</td>\n",
       "      <td>...</td>\n",
       "    </tr>\n",
       "    <tr>\n",
       "      <th>2824</th>\n",
       "      <td>Restolife</td>\n",
       "      <td>https://restolife.kz/letniaia-terrasa/</td>\n",
       "      <td>Дареджани на Навои</td>\n",
       "      <td>Грузинская</td>\n",
       "    </tr>\n",
       "    <tr>\n",
       "      <th>2825</th>\n",
       "      <td>Restolife</td>\n",
       "      <td>https://restolife.kz/letniaia-terrasa/</td>\n",
       "      <td>Дареджани на Достык</td>\n",
       "      <td>Грузинская</td>\n",
       "    </tr>\n",
       "    <tr>\n",
       "      <th>2826</th>\n",
       "      <td>Restolife</td>\n",
       "      <td>https://restolife.kz/letniaia-terrasa/</td>\n",
       "      <td>Тюбетейка Самал</td>\n",
       "      <td>Восточная, Казахская, Узбекская</td>\n",
       "    </tr>\n",
       "    <tr>\n",
       "      <th>2827</th>\n",
       "      <td>Restolife</td>\n",
       "      <td>https://restolife.kz/letniaia-terrasa/</td>\n",
       "      <td>Дареджани на Кунаева</td>\n",
       "      <td>Грузинская</td>\n",
       "    </tr>\n",
       "    <tr>\n",
       "      <th>2828</th>\n",
       "      <td>Restolife</td>\n",
       "      <td>https://restolife.kz/letniaia-terrasa/</td>\n",
       "      <td>Тюбетейка Весновка</td>\n",
       "      <td>Восточная, Казахская, Узбекская</td>\n",
       "    </tr>\n",
       "  </tbody>\n",
       "</table>\n",
       "<p>2829 rows × 4 columns</p>\n",
       "</div>"
      ],
      "text/plain": [
       "         Сайт:                                 Ссылка:            Заведения:   \\\n",
       "0     Restolife          https://restolife.kz/restoran/                Жасмин   \n",
       "1     Restolife          https://restolife.kz/restoran/             Император   \n",
       "2     Restolife          https://restolife.kz/restoran/                 Мирас   \n",
       "3     Restolife          https://restolife.kz/restoran/         DAPANJI Bahyt   \n",
       "4     Restolife          https://restolife.kz/restoran/  Ocean Basket Esentai   \n",
       "...         ...                                     ...                   ...   \n",
       "2824  Restolife  https://restolife.kz/letniaia-terrasa/    Дареджани на Навои   \n",
       "2825  Restolife  https://restolife.kz/letniaia-terrasa/   Дареджани на Достык   \n",
       "2826  Restolife  https://restolife.kz/letniaia-terrasa/       Тюбетейка Самал   \n",
       "2827  Restolife  https://restolife.kz/letniaia-terrasa/  Дареджани на Кунаева   \n",
       "2828  Restolife  https://restolife.kz/letniaia-terrasa/    Тюбетейка Весновка   \n",
       "\n",
       "                                        Кухни:   \n",
       "0                        Восточная, Европейская  \n",
       "1             Восточная, Европейская, Казахская  \n",
       "2             Восточная, Европейская, Казахская  \n",
       "3                        Китайская, Европейская  \n",
       "4     Морепродукты, Средиземноморская, Японская  \n",
       "...                                         ...  \n",
       "2824                                 Грузинская  \n",
       "2825                                 Грузинская  \n",
       "2826            Восточная, Казахская, Узбекская  \n",
       "2827                                 Грузинская  \n",
       "2828            Восточная, Казахская, Узбекская  \n",
       "\n",
       "[2829 rows x 4 columns]"
      ]
     },
     "execution_count": 21,
     "metadata": {},
     "output_type": "execute_result"
    }
   ],
   "source": [
    "file"
   ]
  },
  {
   "cell_type": "code",
   "execution_count": 24,
   "metadata": {},
   "outputs": [
    {
     "data": {
      "text/plain": [
       "Index(['Сайт: ', 'Ссылка: ', 'Заведения: ', 'Кухни: '], dtype='object')"
      ]
     },
     "execution_count": 24,
     "metadata": {},
     "output_type": "execute_result"
    }
   ],
   "source": [
    "file.columns"
   ]
  },
  {
   "cell_type": "code",
   "execution_count": 46,
   "metadata": {},
   "outputs": [
    {
     "name": "stdout",
     "output_type": "stream",
     "text": [
      "1839\n",
      "['Жасмин', 'Император', 'Мирас', 'DAPANJI Bahyt', 'Ocean Basket Esentai', 'Ziyafet Fish House', 'CHERISH', 'La Jia Gourmet', 'Апрель', 'Alma Ata', 'Тюбетейка Абылай хана', 'China ROOM', 'RUMI ТРЦ Moskva', 'Mountain Pub «Aport-Alatau»', 'Чайхана NAVAT Esentai', 'Чито-Грито на Розыбакиева', 'Alycha', 'Sababa', 'Georgian House', 'Le Resto', 'TRUECOST', 'ALFA', 'Balu', 'OstroWOK', 'Adagio Restaurant', 'Japanese Grill Esentai City', 'Mediterranean restaurant Esentai City', 'Tavaduri', 'Буду Всё!', 'Атмосфера', 'Hanok', 'Maharaja', 'Seven Bar And Restaurant', 'Pro. Тесто и Мясо', 'LA RIOJA', 'Georgian Restaurant Esentai City', 'MADO', 'KenRai', 'Вера и Ваке', 'Little Brazil', 'Arcobaleno', 'Double Square', 'TAL Cafe & Restaurant', 'Cai Zhu', 'Nino', 'Aroma Indian Restaurant', 'Grelka', 'Red Pepper', 'SATORI', 'Чайхана NAVAT пр. Сейфуллина', 'Leto Market', 'PepeNero', 'Fornarina by Gradik', \"Ai'va\", 'Frau Irma', 'Одесса', 'Caviar', 'Время ЕСТЬ-ПИТЬ', 'Nautica', 'Еда у кота', 'Salaam Namaste', 'FREDO', 'АБ ресторан', '1GOG', 'River Park', 'Tutarai', 'ТАНУКИ', 'Хороший Год', 'Qaimaq', 'Honey-Honey', 'Hedonist', 'Plov & Company Сары Арка', 'Lotoke', 'PLOV Есть', 'Свет', 'Чачапури', 'CAPRICCIO', 'Malvazija', 'RestoBar 1958', 'Gato', 'Çiçek Mangal №3', 'FERMA', 'Алма-Ата', 'Ocean Basket Panfilova', 'Thali', 'Telavi', 'MB4 Steak House', 'Jama', 'Пушкин', 'Shurpa', 'J.Z. Peking Duck', 'Saint Pierre', 'Афиша', 'Чайхана NAVAT пр. Достык', 'Дадиани', 'The Monkey', 'Печь', 'ZMood', 'Ларисс Иванну Хачу на Розыбакиева', 'Quality', 'Атаманъ', 'Chak Chak', 'Мараканда', 'La Taverna', 'Киану', 'Beefeater', 'ШашлыкоFF Grill & Bar', 'Мрамор', 'Sabiz', 'Bombay to Beirut', '#ДЛЯСВОИХ', 'Prime House', 'Зира', 'SYDYK', 'И рыба, и мясо', 'River Hall', 'Нурым', 'Mangal House', 'Кашгар', 'As-Timian', 'Sololaki', 'INZHU', 'Dala Meat House', 'Пекинская утка', 'Palladium', 'Arsha', 'Eleven Hotel & Hall', 'Borgo Antico', 'Марсель', \"As'salam\", 'Каспий', 'Нур Эль', 'Abay', 'Norka', 'Grande Alatau', 'Бамбарбия Кергуду', 'Orda', 'Astra', 'Асель', 'Сабантуй', 'Трактиръ Медведь на Сатпаева', 'Свои же', 'Ванильное небо', 'Ocean Basket Dostyk Plaza', 'QazaQ restaurant', 'Kore', 'Nomad', 'Thai', 'Счастливы вместе', 'Эрмитаж', 'The Green Table', 'The Grill', 'Sea Marine', 'Кишлак на Достык', '&Meat', 'Старый Мельник', 'Тархун', 'Корона', 'Вахтангури', 'Минари', 'Саквояж', 'Kitchen & Wine Crystal Air', 'Marina et and balik', 'Башня', 'Dickens Restaurant & Bar', 'Sabit & Hodja', 'Fortune', 'Valleta', 'Казахфильм', 'Pirate', 'Hemingway', 'Qingdao Мамыр', 'JERUIYQ', 'Сарай бар / Shymbulak Resort Hotel', 'Хан Тенгри', 'Riza', 'Rass Al', 'Агайын', 'Алмалы', 'Счастье в Бутаковке', 'Счастье на Абая', 'Грузинка Горный Гигант', 'Ак Аул', 'Чашнагири', 'Мао', 'Royal Palace', 'Sarbaz Park', 'Ambrosia', 'Giginova', 'Manana', 'Favor City View', 'Royal Cafe', 'Чойхона №1', 'Racha Chacha', 'Думан', 'Holiday Inn', 'GulVar', 'Салон вкуса', 'Craft Kitchen & Bar', 'Country club', 'Europolis', 'Гранд терраса', 'Оранжевый верблюд', 'Камелот', 'Сандал', 'Тандыр', 'Вкус есть', 'Достар Сарайы', 'Astoria', 'Dolce Vita', 'Caffe Leffe', 'Ариал', 'SNEG restaurant & hotel', 'Ресторанный дворик', 'Primavera', 'Belvedere Grill Room', 'Bosphorus restaurant', 'Хмельница', 'Bavaria Beer House', 'Мерген', 'Горный', 'Авлабар', 'Friuli', 'Sulu-tor', 'Шах', 'Dinastia', 'Dushes', 'SADU в Mega Almaty', 'SADU Concept Store', 'Worldhotel Saltanat Almaty', 'Уют', 'Иссык', 'HAN', 'Отрар', 'Roma Caffe', 'China Town', 'Наш Двор', 'Almaty Hall', 'Алтын Адам', 'Fellini', 'Уч Ляган', 'La Barca', 'Shavlego', 'Cosmo', 'Генацвале', 'Эдельвейс', 'Хинкальная', 'The Float', 'Le Dome', 'Versailles', 'Samal', 'Ozyurt на Тулебаева', 'Barstol & Kok', 'Меланж', 'Sancak', 'Пруссия', 'Tirol', 'Пивоварофф Старонемецкое', 'Wamboo', 'Нигара', 'Грузия фильм', 'Аист в мкрн. Таугуль', 'Карлыгаш', 'Сулу', 'Çiçek Mangal №2', 'Çiçek Mangal №1', 'R. Ssultan', 'Греческая Таверна', 'ComeIn на Богенбай батыра', 'Anel', 'Пугасов', 'Чешский двор', 'Алтын Холл', 'Renion Hills , UNO', 'Тито Авангард', 'Мимино Орбита', 'Мимино Горный Гигант', 'Panorama', 'BASTAU', 'Red Dragon Almaty', 'Алазани', 'Tomato Жандосова', 'Tomato Самал', 'Tomato Толе би', 'Caffe del Teatro', 'Алтын Коль', 'Алмалы Plus', 'ASIAN BarBeQue', 'Лунь-Шянь', 'Тилек тас', 'Double Coffee', 'Ларисс Иванну Хачу на Жамбыла', 'Kolkovna', 'Sunset Art & Kitchen', 'Public', 'Бочонок на Жандосова', 'Бочонок в мкр Орбита 3', 'Бочонок по Назарбаева', 'Ходжа Насреддин', 'East', 'Аист на Абая', 'Bollywood', 'Керуен', 'Assorti Shymbulak', 'Assorti Kazan', 'Assorti Residence', 'Assorti Mega', 'Lotus', 'Лимоны жёлтые', 'Munchen', 'Вечное небо', 'Дастархан', 'Del Mar', 'Белый слон', 'Ziyafet Steak House', 'Намедни', 'Пиросмани', 'Turandot & Bolognese на пр. Достык', 'Turandot & Bolognese на Абая', 'Turandot & Bolognese по Назарбаева', 'Turandot & Bolognese на Жарокова', 'Noodles', 'У Друзей', 'Принцесса на Тулебаева', 'Принцесса на Богенбай батыра', 'Trattoria', 'Parmigiano', 'Line Brew Mix', 'Vista', 'Villa dei Fiori', 'У Афанасича', 'Entrecote на Кирова', 'Bellagio, restaurant & club', 'Chalet', 'Жеты казына / Ци / Карамель', 'Korean House в Mega Alma-Ata', 'Korean House на Кабанбай батыра', 'Korean House на Гоголя', 'Korean House в Esentai Mall', 'The Shakespeare Pub', 'Crudo Mega Alma-Ata', 'Crudo на Абая', 'Del Papa на Кабанбай Батыра', 'Del Papa на Достык', 'Del Papa на Бухар жырау', 'Del Papa в мкр-н. Орбита-3', 'Del Papa на Гоголя', 'Mamma Mia Гоголя', 'Olivier', 'RUMI Абылай хана', 'Line Brew', 'Гакку', 'Кишлак', 'Трактиръ Медведь на Абая', 'Гости', 'Traktir na Kalinina', 'Алаша', 'Дареджани на Навои', 'Дареджани на Достык', 'Тюбетейка Самал', 'Дареджани на Кунаева', 'Тюбетейка Весновка', 'Hard Rock Cafe', 'Tandoor', 'Altyn Grand Hall', 'Triumph Hall', 'Коркем', 'Satai Park', 'BAQ Sarai', 'Vstrecha', 'Graff Banqueting Hall', 'Sky Hall', 'Grand Family Hall', 'SKIFskoe Zoloto', 'Dubai Luxurious', 'Мұз Тау', 'Agaiyn Hall', 'Svetlana Modern Cuisine', 'Кок Тобе', 'Ел Орда', 'Villa Royal', 'Вкусно как дома', 'Anise', 'Алтын', 'Almaty Seoul', 'Park Hall', 'Игілік Palace', 'Амаль', 'Otau', 'Шаттык', 'Поляна', 'Сат', 'Иргели', 'Кок-Тал', 'BS Plaza', 'Grand Ballroom Royal Tulip', 'Metropol', 'Шатыр', 'Kazakhstan Grand Ballroom', 'Береке', 'Khama Park', 'Дария', 'Айлина', 'Сабина', 'Амина', 'Salut de Luxe', 'Поэзия', 'Той-Думан', 'Manar Palace', 'ЖанерД', 'Ритм', 'Панорама', 'Imperator', 'Арлан', 'Байтерек', 'Фелис', 'Алтын Ел', 'Mara', 'Туран', 'Grand Alatau', 'Белые розы', 'Ару-Ана', 'Керемет', 'Nomads', 'Саудабай', 'Vivat Grand Hall', 'Феруза', 'Мак', 'Farabi Hall', 'Ерке', 'Ilnarus', 'Тулпар', 'Белый Аист', 'Cardinal', 'Barocco', 'Аммар', 'АҚДАНА', 'Ак Сарай', 'Нур Алтын', 'Grand Osteria', 'Diadema', 'Жибек', 'Baganashil', 'Каганат на Абылай хана', 'Каганат на Сатпаева', 'Rush pub & grill', 'Туздыбастау', 'Султан сарайы', 'Gold Казына', 'Imperia Hall', 'Ханшайым', 'Жана Алмаш Ауылы', 'Ават', 'Golden Class', 'Достар', 'Grand Erbil Hotel', 'Бахыт', 'Мереке', 'Vivaldi', 'Ак Мекен', 'Жайлау, этно-кафе', 'Инжу', 'Алматы Туни', 'Падишах', 'Бакшасарай', 'Елик', 'Ильнарус', 'Дамин', 'Таверна на углях', 'Uly Tau', 'Жалын', 'Узбечка Горный Гигант', 'Риони', 'Миннар', 'Огни Алатау', 'Симфония', 'Посейдон', 'Алтын Гасыр', 'Шарис', 'Жибек жолы', 'Шам-Сия', 'Tumar', 'Platinum', 'Куаныш', 'Картал', 'Maristella Resort', 'Таж', 'Космос', 'Алдияр', 'Эйфориза', 'Country Club Zhailjau', 'Чито Грито на Сейфуллина', 'Аль Хайыр', 'Маида', 'Хан Сарай', 'У Исабая', 'Тау Дастархан', 'Чингу', 'Дархан', 'Premier Hall', 'Инара', 'Шахин Шах', 'Марс', 'Romance Palace', 'Victoria', 'Арагви', 'Huga', 'Москва', 'Esmeralda', 'Rock Crystal', 'Рыба моей мечты Навои', 'Рыба моей мечты Достык', 'Рыба моей мечты Айманова', 'Hot Chicks Bar', 'The Friends Bar & Terrace', 'Буханка', 'Наш бар', 'The Bar', 'LABIRINT', 'Mandarin', 'МЯТА Lounge на Достык', 'Alibaba hookah lounge', 'Я vDrova', 'Fahrenheit', 'АЧИЧУК', 'Papillon club', 'Lugo bar', 'Lolita', 'Bazilik Bar', 'New Amsterdam grill & pub', 'Соседи на Бухар Жырау', 'Peace Pipe', 'The Банка Bar на Жарокова', 'Kokon', 'elFayum Place', 'Heat', 'Prosecco Bar', 'Скандалистъ', 'Жара', 'MARMELAD LOUNGE', 'Porter Beer House', 'LETO', 'Есть повод', 'Kosmoss Grill&Bar', 'МЯТА Lounge на Назарбаева', 'CHICKEN Star Space', 'Gagarin 287', 'The ДЫМ', 'Shisha Bar Esentai City', 'Vilka Muratbaeva', 'Josper', 'Бадьян', 'See Again bar', \"Meat & beer Redley's\", 'Friendly', 'Duran bar', 'AURA Lounge Курмангазы', 'Motor Club', 'INJIR', 'Kaknado', 'Al-Fakher', 'Belka Bar', 'Жиробас', 'Petroleum', 'Calliano на Сатпаева', 'Freeze Bar', 'BARЧУК', 'МЯТА Lounge на Мендикулова', 'МЯТА Lounge на Алтынсарина', 'TabakOFF Hookah Lounge Bar', 'Medallion', 'DARNI lounge&bar', 'Late night show', 'Old City Bar', 'Green Lounge', 'Hunter Steak & Burger', \"O'Hara's Irish Pub\", 'Negorkiy bar', 'Smoke Lab', 'Chilla Republic', 'Уят Емес Бар', 'Облака', 'Blackhall Bar', 'LA LA LEY', 'PODЫМИМ', 'Co-Bar by VQ', 'Ale Pub', 'Shiva Shisha', 'МЯТА Lounge на Сатпаева', 'My Shisha', 'Unicorn', 'Awesome', 'Beer Garden', 'LIKBEER', 'Вкусный Двор', 'Кокос', 'Chechil Pub Толе би', 'Третий тайм', 'Jam Karaoke Bar', 'SMUG Burger Bar Dostyk Plaza', 'Hookah Escobar на Жарокова', 'Hookah Escobar на Маметовой', 'Крапива', 'B.Marley', 'Kowloon bar', 'Shisha GO', 'MЯSO BAR', 'Сухой Закон', 'Mongol Bar', 'MoonWalk', 'Любимая, я перезвоню', 'Royal Lounge Bar', 'D30', 'Hookah Dreams', 'Шаляпин', 'HM hookahbar', 'La CoppolA', 'Bar 111', 'Засучи рукава', 'All Saints', 'PS4 na Bayzakova', 'Douglas', 'TYT IN', 'МЯТА Lounge на Сейфуллина', \"Hoper's\", 'Barrejar', 'StreEAT в ТРЦ MOSKVA', 'Пятница', 'Craft Shisha & bar', 'Think of bar', 'Hong-Kong Bar', 'DeBosch bar', 'MiAmi', 'ZAVOD', 'Lookoom', '1913', 'Bierdeckel Pub', 'Echo', 'Art House', 'Voyage', 'Бочка', 'Bunker', 'KRAFTWERK', 'Di lounge', 'Хосе и Josper Kitchen & bar', 'Hookah Time', 'Wine Room', 'Smoking lounge bar', 'Smoke lounge Samal', 'BoNanza music Cafe & Bar', 'Bottle', 'Sky bar City', 'Force', 'Bufet chillout bar', 'AYOU Hookah bar', '8 шнурков', 'CheerDuck', 'МЯТА Вышка / Telescope Bar', 'Sky lounge', 'Hard Hookah Aperitif Bar', 'Vilka Kazybek Bi', 'The Банка Bar на Макатаева', 'Love cinema Almaty', 'Пьяный Кролик', 'Кино', 'Танцы бар', 'OɅOVO', 'Arena Pub', 'Mist hookah lounge', 'BAR No.7', 'JS HOOKAH', 'Spirit bar', 'МЯТА Lounge на Гагарина', 'Tortuga Island', 'Lenore pub', 'Туыскан', 'Contrast Hookah', 'The Office club', 'Love Smoke', 'Street Meat', 'Asia lounge', 'Empire', 'Old bridge pub', 'Khalil Mamoon', 'Underground club & bar', 'Винный шкаф', 'Шатов', 'Matrioshka', 'Сталкер', 'ДиБо / Oxa', 'Sherlock Holmes', 'Golden Dolls', 'Calliano на Жандосова', 'New Angar', 'Мажор', 'Freerider', 'Dil Pary', 'Arasan SPA & Wellness', 'Salty dog на Жарокова', 'Salty dog - street bar', 'Mega Karaoke', 'Янтарный Берег', 'Scirocco Rooftop Bar', 'L Sabina', 'Apple bar', 'Old Trafford Pub', 'МЯСОЕТ', 'Hookah Place Almaty', 'J Bar', 'На Бульваре', 'Alberto', 'Hookah Park', 'InLoft Bar', 'The Office Nargilia Lounge', 'Atrium', 'Пивница', 'Red Bar', 'Жигули', 'Peshera', 'Пять звезд', 'Boohouse', 'The Oyster bar', 'Шишка', 'THE ALBION CLUB', 'Штаб', 'Old English pub', 'Просто бар', 'Шмель', 'Stories', 'Julia', 'Чуть чуть', 'Efe', 'Dolcetto', 'Glen Pub', 'Pub Corn', 'Kairat', 'Kazanova', 'Zi Zi , grill and pub', 'Мастер Жигулёв', 'Po Pravde Bar', 'Бармаглот', 'SOHO bar-concert & meat', 'Yard House pub', 'Guinness Pub', 'Parovoz Bar', 'Staut Music  Bar', 'Aragosta, диско-бар', 'Avenue Club', 'Ленконцерт Сайгон Style', \"William Lawson's the 13 Bar\", 'Dublin', 'La Pasizhu', 'Синий FunToMass', 'Честный паб на Розыбакиева', 'Чукотка', 'Grand Opera', 'Go bar', 'Добрый', 'Khan El-Khalili на Макатаева', 'Khan El-Khalili на Радлова', 'Khan El-Khalili в Алма-Арасане', 'DJ Bar #1', 'BAR3200', \"Mad Murphy's Irish Pub\", 'The Банка Bar на Розыбакиева', \"Harat's Irish Pub на Панфилова\", \"Harat's Irish Pub на Аль-Фараби\", 'Хмельная пражечка в 3 мкрн', 'Хмельная пражечка на Шаляпина', 'Хмельная пражечка на Назарбаева', 'Woodman', 'Chechil Pub Сары-Арка', 'Chechil Pub Розыбакиева', 'Chechil Pub на Тулебаева', 'Chechil Pub Жарокова', 'BarFly', 'Пинта на Алтынсарина', 'Пинта в Mega Alma-Ata', 'Пинта на Ауэзова', 'Пинта на Назарбаева', 'Пинта Bar & Club в гостинице Казахстан', 'Пинта в Asia Park', 'Пинта в ТРК ADK', 'Пинта на Весновке', 'Пинта в ТРЦ Mega Park', 'Resto Bar 6/45', 'Квартира №148/2', 'Пельмени bar', \"Galito's Esentai\", 'Korean street food на Абылай хана', 'KIM CHI', 'Лепим и Варим', 'Тюльпан Ата', 'TMIN', 'Arabis', 'Жан Плов Лагман Жарокова', 'La Pasta', 'Hong Kong Soy', 'Shahristan', 'Ramen House', 'IL BOSCO DI CAFFE', 'Tokyo Ramen Izakaya Bar', 'TESTO', 'Batyroff Burger Gold', 'Meatiz Kebab House', \"Delicat'L Grand Cafe\", 'Yasuda Sushi', 'Buhari', \"Galito's Dostyk Plaza\", 'Big City Life', 'EDA', 'J.Z Bistro', 'Amazon', 'Sherbet', 'Momo', 'BLIN to DAY', 'Хомяк', 'Cafe De Montana', 'Друзья', 'Avocado', 'STEKLO', 'В тандыре', 'ПельменьДос', 'Koko grill', 'Уголек на Жамбыла', 'Gardizi', 'Астероид Б612', 'Batyroff ploff & pizza', 'Madamin', 'Luckee Yu', 'Марь Иванна', 'Краснодарский парень', 'Zafferano', 'Medeo Mountain Cafe', 'Harissa Middle Eastern Cuisine', 'MAUI', 'GG Steak House', 'Sabiz Express', 'Matador', 'Geronimo', 'Chad Cafe', 'Узбекский Дворик', 'Barbeque by Bekir Chef', 'Rustaveli', 'Хачапури Хинкальевич на Абая', 'Aspan Park', 'ЧайLa Kitchen & Shisha', 'Tumar cafe', 'Pinsa Balboa', 'МансАрда на Жандосова', 'Бастау', 'BubbleGum', 'Ramen 77', 'Райский сад на Кунаева', 'Шпинат', 'Pinseria Mega Alma Ata', 'Pinseria Курмангазы', 'Lanzhou Aport Mall', 'Лагман Хан', 'Panna Cotta', 'Happy Smile', 'Vostok 1', 'Chestnok', 'COCO', 'Хорошее Заведение на Утепова', 'Joy-Park', 'We’d Meat Burgers', 'Carnaval', 'Lanzhou Северное кольцо', 'RUBIN', 'Пацацина', 'Das Grill Haus', 'Orient Park Atakent', 'Zodiac', 'Лаза Джан', 'Fish', 'Жан Плов Лагман Достык', '2GO CAFE', 'Lanzhou Сатпаева', 'Qazan', 'Дружба', 'Курdюк', 'Шашлычный дом', 'B&C burger', 'Бакинский бульвар', 'Деловая колбаса', 'Fellini City Cafe', 'MILDIANI', 'Ramen Lab', 'Ля Шампур', 'Ким Тан', 'Black Doner', 'Aspandiyar Express', 'Nedelka Желтоксан', 'Рамазан', 'Жан Плов Лагман Минина', 'WHATTSAP CAFE', 'Чайхана, центр плова и шашлыка', 'Sairam', 'Изюм на Казыбек би', 'Design Cafe', 'Baihan', 'Liberty Cafe', 'Batyr Burger Панфилова', 'Meeat Cafe', 'ВьетКафе в Dostyk Plaza', 'Sochi', 'Grand Otan', 'Lanzhou Жибек Жолы', 'YummY Cafe', 'The Village', 'MARZO', 'Бульон', 'BAO Sushi & Noodles Bar в ТРЦ Moskva', 'Kochere Patisserie & Cafe', 'У Камина', 'Mamma Smile', 'Абылай чайхана', 'Aysun', 'Finik', 'Yuframe burger на Богенбай батыра', 'Nova cafe', 'LaDoni', 'Minas', 'Чайхана АкСакал', 'Pallet на Искендерова', '727', 'Hot dog club', 'Папин сад', 'Молдир', 'Pro Лапшу', 'Веселидзе', 'Наследники', 'Бабушкин буфет', 'Тихий уголок у Гарри', 'Monteverde', 'Assorti Rancho', 'B.O. Cafe', 'Bangkok', 'Казан мангал', 'Элит', 'Ен-Ван', 'Апшерон', 'Сәнiм', 'Oscar', 'Жу-Жу', 'Лия', 'У Адины', 'Carafe', 'Madu', 'Shafran на Саяхате', 'Shafran на ВОАД', 'Вкусная идея', 'Grand Love Cinema', 'Ташкент №1', 'Kazan', 'Elephant', 'Green House', 'Лаффа', 'Салем', 'Шашлычок на Пастера', 'Шашлычная на Кирова', 'Artdala', 'Арбуz, сладкий как пЭрсик', 'Талани', 'Кеш Жарык', 'Booblik', 'Орлиный приют', 'Park Resort «Восемь Озер»', 'Малибу', 'Lagman Project', 'Золотой кувшин', 'Райский сад на Жансугурова', 'ПельменьОК', 'Финик halal food', 'Выше крыши', 'Atayurt', 'Dolmama', 'Уголёк на Абылай хана', 'Tengri Cafe', 'K-HOUSE', 'Три грузина', 'Туран караоке', 'Узбечка возле Парка Культуры и Отдыха', 'Хилола', 'Сауле', 'Бомболо', 'Мармарис на Ауэзова', 'Мармарис Сары-Арка', 'Райский сад', 'Бухара', 'Cipollino', 'Тарым', 'Angry Kuropatka', 'Сакварели', 'Кафе Мангал (Горный Гигант)', 'Violet Rooms', 'The Old Gate', 'Пазанда', 'Крокодил', 'The Teens', 'Mizandari', 'Marani', 'Восточный двор', 'Jolly Time', 'Limon Cafe & Patisserie', 'Кувшин', 'Айсара', 'Love Cinema', 'Kazan Mangal', 'Избушечка', 'Park Rest Cafe', 'Maryam', 'Panorama Shymbulak', 'Старый Баку', 'Эмиль на Дуйсенова', 'Лепесток', 'Qua Qua', 'Pallet', 'Vertex club', 'Чиль Сон', 'Шалахо', 'Мансарда', 'МансАрда на ВОАД', 'Гламур', 'Теплица', 'Spice Mantra', 'Шотибури', 'Восточка', 'Пещера №1', 'Достар Loungebar', 'Shafran', 'Kvevri', 'Сундучок', 'Gabali', 'Pita Green', 'Dato', 'Steik.kz', 'Навруз', 'Нескучный сад', 'Baursak City', 'Телави', 'Жемчужное', 'Ремизовка', 'Bereket', 'Дильназ', 'Paul Cafe Шымбулак', 'Ляо FOOD в Aport Mall', 'Тамада', 'Masisso по Назарбаева', 'Hayat', 'Lemur', '777', 'Давай к нам', 'Изюм', 'Буржуй', 'Восток', 'Хан Кебаб', 'Zaman', 'Training Cafe', 'Хурма', 'Бархан', 'Виктан', 'Керван Донер / Анкара', 'Синьцзянь', 'Кавказский домик', 'Азия кафе', 'Айнур', 'Хорошее Заведение на Абая', 'Трактир на Жарокова', 'Eastclub', 'Динара', 'На даче', 'Алтын Ай', 'Золотое руно', 'Контур', 'Зеленый клин', 'Mumin', 'Эйфория', 'Шапагат', 'Visit', 'Тушури', 'Chin Dao', 'Марципан БЦ «Avenue 310»', 'Гранат', 'Белый журавль', 'Тандыр кафе', 'Nakatika', 'Riksos', 'Reverence', 'Sybarite', 'Аркада', 'НЛО', 'Мук скороход, плов-бешная', 'Нурай', 'China cafe', 'Robusto', 'Sowon', 'Фарш', 'Insomnia', 'Toqash City', 'Вилла', 'Horizon', 'Whoopie Cakes', 'Луна', 'BonTon', 'Ляззат', 'Хабиби', 'Дервиш', 'Иверия', 'Тянь-Шань', 'Хачапури Хинкальевич на Достык', 'Gold', 'Мариям', 'ПерекуCityMixx', 'Жайсан', 'Кимчи', 'Shafran на Яссауи', 'Ханган', 'Супер-лагман', 'Гермес', 'Менд-Аль', 'Мадагаскар', 'Adal', 'Корея', 'Эмиль', 'Таугуль', 'Шалкар', 'Volpi rosse', 'Кым-Ган-Сан на Брусиловского', 'Кым-Ган-Сан в 3 мкрн', 'Кым-Ган-Сан на Фадеева', 'Қуырдақтың көкесі', 'Факир', 'Compote, кулинарная студия', 'KapadokyA', 'Батуми', 'Арго', 'Анель', 'Dream Island', 'Ray Pool Club', 'Дасаранг', 'Марципан на Абая', 'Музкафе', 'Шеф', 'Аннён', 'Мандариновый Гусь', 'Атриз', 'Грузинский двор на Кабанбай батыра', 'Грузинский двор на Жандосова', 'Алатау', 'Место встречи', 'Тамаша', 'Кабачок Горыныч', 'Розмарин', 'BAO Sushi & Noodles Bar', 'Ozyurt в Mall Aport', 'Ozyurt в Esentai Mall', 'Ozyurt на Абая', 'Дорога Детства', 'Восточный квартал', 'Хачапури Хинкальевич на Кабанбай батыра', 'Presso', 'Теремок', 'Baysan', 'Форт Горный', 'Хачапури', 'Рис', 'Arirang', 'ВьетКафе в MEGA 2 Alma-Ata', 'Dar', 'Ас-Казан на Муканова', 'Ас-Казан на Гоголя', 'Ас-Казан Таугуль', 'Ас-Казан на Барибаева', 'Main Street Cafe', 'Park Avenue', 'Golden Shisha', 'Центр плова и шашлыка', 'Cafe Central', 'Loft cafe', 'Veranda', 'Оргилай', 'Alazany', 'Чайхана на Тургут Озала', 'SALSABIL', 'Malina Mix', 'Fresh Time Promenade', 'Fresh Time Moskva Metropolitan', 'Fresh Time Спутник', 'Fresh Time ADK', 'Fresh Time Mart', 'Lee House', 'Nedelka Абая', 'Wine Cafe & Shop', 'Рыжий красавчик', 'Шашлычный двор', 'TiMatey', 'Пусан', 'Узбечка №1', 'Аракс', 'Три апельсина', 'Senseasia', 'Dastarkhan food', 'DATO на Кирова', 'Маннам', 'La Belle', 'Kangnam Caffe', 'Night Star', 'Rodem', 'Monroe', 'Degirmen', 'Зимний сад', 'Oasis', \"Leo's cafe & terrace\", 'Aurora', \"Govinda's\", 'Orient Альянс Жандосова', 'Orient', 'Отжарь МЯСО', 'Shipudim на Ауэзова', 'Shipudim на Желтоксан', 'Shipudim на Толе би', 'Shipudim в 4 мкр.', 'Алина', 'Pomodoro', 'Форт Верный', \"MAN'S CITY CAFE\", 'Trieste', 'Paul Cafe Esentai', 'Paul Cafe Mega Alma-Ata', 'АндерСон на Ауэзова', 'АндерСон в Mega Alma-Ata', 'АндерСон на Хаджи Мукана', 'Щи Вон Ха', 'Paradise', 'Wafbusters', 'Bagel', 'UNIQUE coffee', 'HEFKCHA', 'MOOZ', 'Coffee Boom Villa Almaty', 'UMAMI', 'Кафе Плюс', 'TEADOT', 'Petit Chocolate Coffee', 'FLASK COFFEE', 'Coffee Owl', 'La Tartine в ТЦ Forum', 'Cocobean', 'Starbucks Coffee в Forum', 'ПРАВДА КОФЕ', 'Starbucks Coffee в Арман', 'Paco coffee & pastry', 'Solo Cat Cafe', 'Пекарня by Marzhan Otegen', 'Starbucks Coffee в Almaty Towers', 'Coffee Boom Forum Almaty', 'HOLDER coffee', 'Big Apple coffee shop', 'Angel-in-us Coffee Гостиница Almaty', 'HOMECAFE', 'Botanic Coffee Garden', 'Magic Coffee', 'Local Coffee and Pizza', 'Angel-in-us Coffee Ramstore', 'Meat & Sweet', 'Kristi', 'Coffee Boom Dostyk Plaza', 'Coffeegramm', 'Браунис', 'Sunny coffee', 'Yummy AA Bakery', 'Fermata', 'Madison', 'Salem coffee & tea', 'Dombarista', 'Coffee Original Нурлы Тау', 'Coffee Original Назарбаева', 'Coffee Original Car City', 'Coffee Original 12 месяцев', 'Coffee Original БЦ Берекет', 'Coffee Original Байконур', 'Coffee Original Остановка Стадион', 'Coffee Original City Center', 'Крем Брюле pastry', 'Main Latte', 'Creme Fouettee', 'Sensilyo Coffee house', 'Coffee House', 'Vanilla на Кунаева', 'Vanilla на Курмангазы', 'Seventy coffee', 'Seventy coffee метро Алатау', 'Bona Coffee', 'Brown Buffet', 'Велоедов', 'Honest Coffeehouse', 'Daily Coffee', 'Кандирия', 'Milk and Honey', 'Bowler Coffee Roasters', 'French Creperie', 'The Coffee Point', 'Деревушка', 'Panaderia Barcelona', 'Coffeeroom', 'Starbucks Coffee Esentai', 'Espresso bar Nedelka', 'The Garden', 'Bakery Street', 'Bubble Time', 'Tutto Bene в Mega Center', 'Tutto Bene в Mega Park', 'Tutto Bene в Mega Center 2', 'Tutto Bene в MOSKVA Metropolitan', 'Mint Coffee&More', 'Карамель', 'Bonne Chance', 'Fanco', 'Aida cafe', 'TIRC Coffee', 'БротМастер', 'Happy Coffee', 'B-Kesh', 'La FABRIQUE', 'Bistro 202', 'Завтраки', 'Caffe Pascucci', 'DOMA coffee & tea', 'Lakomka foods pastry на Сейфуллина', 'Lakomka foods pastry в мкрн Достык', 'Lakomka foods pastry на Бухар Жырау', 'Lakomka foods pastry на Абылай хана', 'Lakomka foods pastry на Гоголя', 'DaCoffee', 'Lobby caffee', 'TiAmo Coffee', 'Chameleon', 'Фисташка', 'Итальянский буфет', 'COFFEERIKA', 'Венгерская булочная', 'Go Coffee & Donuts', 'Ficelle', 'Angel-in-us Coffee в Mega Alma-Ata', '19 Bread and Coffee', 'Ваниль', 'Tango Square', 'Starbucks Coffee в Dostyk Plaza', 'Starbucks Coffee в ЦУМ', 'Starbucks Coffee в Mega Park', 'Starbucks Coffee в Mega Alma-Ata', 'Starbucks Coffee в Park View', 'Starbucks Coffee в Globus', 'Starbucks Coffee в BNC Plaza', 'CoffeeTOP', 'La fiera dei dolci в Mega Park', 'La fiera dei dolci в ADK', 'Galleria caffe', 'IL Gusto', 'Boro Boro', 'Baker Street', 'Бодрый День на Сейфуллина', 'Анна-Мария', 'Esentai Gourmet', 'Bubble Mania', 'NaboСoff', 'Coffee & Parfait Bar в Esentai mall', 'Visiteur coffee & Hookah bar', 'Jumpingoat Coffee', 'Coffee inn', 'Coffeetime', 'Bellini coffee', \"Thomi's Pastry на Пушкина\", \"Thomi's Pastry в City plus\", \"Thomi's Pastry в ЦУМе\", 'Coffee & Toffee', 'Мадлен', 'Urban Coffee', 'CoffeeOke', 'New Bisquit', \"Gloria Jean's Coffees на Абылай хана\", \"Gloria Jean's Coffees в Ramstore\", \"Gloria Jean's Coffees в Mega Alma-Ata\", \"Gloria Jean's Coffees в Dostyk Plaza\", \"Gloria Jean's Coffees на Панфилова\", 'Tea Coffee Garden', 'Coffee and the City в Aport Mall', 'Coffee and the City в Mega Alma-Ata', 'Coffee and the City в Mart', 'San Francisco Coffee Bean', 'Белый Кит', 'Costa Coffee в Кен Дала', 'Costa Coffee в Mega Park', 'Costa Coffee в Dostyk Plaza', 'Costa Coffee в Mega Alma-Ata', 'Social Coffee', 'United Coffee', 'Coffeedelia на Кабанбай батыра', 'Coffeedelia на Желтоксан', \"Traveler's Coffee на Курмангазы\", \"Traveler's Coffee на Назарбаева\", \"Traveler's Coffee на Желтоксан\", 'Aroma', 'La Tartine в MEGA 2', 'La Tartine в Dostyk Plaza', 'La Tartine на Кабанбай батыра', 'Cafeteria', 'Marrone Rosso на Назарбаева', 'Marrone Rosso в Mega 2', 'Marrone Rosso на Шымбулаке', 'Marrone Rosso на Абая', 'Bon Bon', 'Fenomen', 'CANTO', 'Soju', 'Рояль на Нурмакова', 'GIN', 'Ухо и Медведь Гагарина', 'Ухо и Медведь Саина', 'Grand Limo', 'Storia', 'Al Capone', 'Мажорный Сад', 'Gin', '1100 Karaoke', 'Do Re Mi', 'Dolce', 'День и Ночь', 'Ухо и Медведь Курмангазы', 'Karaoke Hall', 'Gatsby', 'Burlesque', 'Bar Bados', 'Прованс', 'Fa Sol на Макатаева', 'Fa Sol на Жандосова', 'Moonlight', 'ЛюбиМое на Абая', 'ЛюбиМое на Желтоксан', 'Soprano', 'Piano', 'BaraOke', 'Ministry of karaoke', 'Hot2be', 'Record', 'Рояль на Толе би', 'Orient karaoke club', 'Quartet', 'Alma Blues', 'Faltset', 'G karaoke', 'Bocelli', 'Shelk', 'Largo', 'Encore', 'Voice Karaoke', 'Melody', 'Pro100Пой', 'Поем и пляшем', 'Ultimate Karaoke', 'Fanky', 'Prima', 'ForBest', 'Микрофон', 'Rich Karaoke bar', 'Gogol', 'Lemon, кулинарная студия', 'Big House', 'Арстан', 'Тау Булак', 'Cook Well', 'MyRoom, антикафе', 'Relax, таймкафе', 'USE, антикафе', 'Funky Town Dostyk Plaza', 'Funky Town Aport Mall', 'Oi-Qaragai Lesnaya Skazka', 'СуЛиФа', 'Aul Resort', 'Plastilin, антикафе', 'Time Kafe По Правде', 'Некафе на Назарбаева', 'Некафе на Маркова', 'Как дома', 'Талгарская Форель', 'TAU SPA center', 'Ваниль, антикафе', 'Bloom Ville', 'Weekend Renovacio', 'Ата Компот', 'FeRoom', 'DarWin', 'Bar Duck', 'RESONANCE BAR', 'Super Mario', 'Avenue NightClub', 'Grand Almarasan', 'Vzletnaya', 'Retro Hit', 'AlDida', 'Sova', 'Барвиха', 'Пионерская правда', 'Жесть, рок-клуб', 'Sweety club', 'Disco 80', 'Bar Code', 'Территория Соединенных Баров', 'Old Sport', 'Две палочки', 'Almaty Rolls', 'BAO Sushi & Noodles Bar в ТРЦ Mega Park', 'Ginger Loft Cafe', 'Daikon Sushi', 'Musubi', 'Samurai Sushi на Жандосова', 'Sushi Рай ADK', 'Sushi Рай Aport Mall', 'Sushi Рай Magnum', 'SUSHIDAI', 'Samurai Sushi на Шолохова', 'ZEN Sushi Bar', 'Sushi Room by FOODBOX', 'Суши Рай', 'Woky', 'Philadelphia', 'Японка', 'Суши муши', 'Спайси Суши', 'Kenzo', 'Ayashi в Атриум Рамстор', 'Ayashi в Maxima', 'Деловая Krevetka на Радостовца', 'Деловая Krevetka на Райымбек батыра', 'Деловая Krevetka на Демьяна Бедного', 'Япоша Сан', 'Mezza Luna в Mart', 'Mezza Luna в Прайм Плаза', 'МамаСан в Promenade', 'МамаСан в Атриум', 'МамаСан в ТЦ Алмалы', \"Sushi'n'Roll в Esentai mall\", \"Sushi'n'Roll на Гоголя\", 'Submarine', 'Takara Sushi Bar', 'Алые Паруса в Moskva', 'Алые Паруса в Globus', 'Алые Паруса в ADK', 'Алые Паруса в Dostyk Plaza', 'Алые Паруса в Mega Center', 'Mega Sushi', 'Суши-Маки', 'Samurai Sushi на пр.Достык', 'Samurai Sushi в мкр.Алмагуль', 'Manga Sushi на Гоголя', 'Manga Sushi на Байтурсынова', 'Manga Sushi на Абылай Хана', 'Sumo San', 'Papa John’s в ТРЦ Forum Almaty', 'Papa John’s Орбита 1', 'Papa John’s на Гоголя', 'Rocket Pizza', 'iPizza', 'Авторская пицца', 'Pizza man', 'Pelati', 'Pasta Nostra', 'Pizzeria Marcello', 'Donna Pizza', 'Pizza Hut', 'Pizza Italiano в Прайм Плаза', 'Pizza Italiano в Mango', 'Pizza Italiano в Mart', 'Бижан', 'Rustica', 'Белес', 'PizzaRio', 'Mariani Pizza', 'Viva Pizza', 'Pizza Mizza', 'QuickPizza', 'Vorona-Verona', 'Good Week', 'Mario', 'Pizza In в мкр. Жетысу-4', 'Pizza In в мкр. Аксай-3', 'Pizza In на Брусиловского', 'Pizza Land на Жубанова', 'Pizza Land в 4 мкр', 'MiaPizza', 'White Brown', 'Pizza One на Орбите', 'Pizza One на Толе би', 'Pizza Paradise', 'Pizza Bravo', 'Ti Amo Pizza на Наурызбай батыра', 'Ti Amo Pizza в Калкаман 3', 'Ti Amo Pizza в 8 мкрн.', 'Pizza Mia на Кунаева', 'Pizza Mia на Байзакова', 'Mr Pizza', 'Перчик', 'Асжан', 'ДоДо пицца на Кунаева', 'ДоДо пицца в Самал-2', 'ДоДо пицца на Алтынсарина', 'ДоДо пицца ТРК ADK', 'Eldoro на Ауэзова', 'Eldoro на Пушкина', 'Pizza Grill ТЦ Дана', 'Pizza Grill Абая', 'Excellent Pizza на Гагарина', 'Tomato Mega Park', 'Pizzeria da Giorgio в ТЦ «Алмалы»', 'Pizzeria da Giorgio в ТЦ ГУМ', 'Ciao Pizza на Толе би-Сейфуллина', 'Ciao Pizza в мкр. Алмагуль', 'Ciao Pizza на Толе би-Жарокова', 'Ciao Pizza в 10 мкр', 'Mamma Mia Esentai Mall', 'Mamma Mia Нурлы тау', 'Pekinchik', 'Наше Время', 'Hardee’s доставка в Алматы', 'Империя пиццы', 'Toppers pizza & sushi', 'Happy pizza', 'Flying fish', 'Куропатка', 'KFC доставка в Алматы', 'Wokker Kazakhstan', 'Дунганка на Жангельдина', 'UFO', 'БорЩи', 'Kind Burger на Толе би', 'Arti Grande', 'The Flame', 'The Wok', 'Пицца Счастья', 'Chick&Go', 'Q Kitchen', 'KHAN Burger', 'RAFF', 'Hawker Chan', 'Nan Kebab', 'Brother’s Burger', 'BBQ Burgers в Forum Almaty', 'Bahandi Burger', 'Terridon', 'Hummus & Falafel', 'Burger Cube', 'Das Grill Haus Aport Mall', 'Бродвей Бургер в ТЦ Colibri', 'Maison French Fries', 'Steak & Burger', 'Зын Зын', 'Yuframe burger на Панфилова', 'Zheka`s ICE, мороженое', 'Yuframe burger в ТРК ADK', 'Yuframe burger в Dostyk Plaza', 'Yuframe burger в ТЦ Globus', 'Street Food KZ', 'Doner King', 'Ainar doner', 'Ketchup', 'BBQ Burgers в ЦУМе', 'Fast Food Castle', 'Тянем-Жарим', 'Bellali', 'High Cube', 'Hot dog house', 'Zheka`s Doner House в Mall Aport', 'Zheka`s Doner House в Mega Park', 'Zheka`s Doner House Атакент', 'Zheka`s Doner House на Панфилова', 'Zheka`s Doner House по Правде', 'Sallys Burger', 'Buffet на площади Республики', 'Buffet в Promenade', 'Chili fried Chicken', 'Мархаба', 'Pasta-Pizza Express в Алмалы', 'Pasta-Pizza Express в Promenade', 'Pasta-Pizza Express в Март', 'Kind Burger в Атриум Рамстор', 'Kind Burger в Maxima', 'Kind Burger в Молл Апорт', 'Пышшка', 'Simitci на Райымбека', 'Simitci в 4 мкрн', 'Simitci на Жандосова', 'Ideal Doner & Baklava', 'MR. T. DONERS & BERLIN FOODS', 'Bedobay Organic Doner', 'Uno Dos Tacos в Dostyk Plaza', 'Uno Dos Tacos в Mega Park', 'Бродвей Бургер на Кабанбай батыра', 'Hunkar', 'Cafeshop', 'Карлсон', 'Три медведя', 'ДОНЕРНАЯ №1', 'Suhur Kebab & Burger', 'Блинная', \"Mama's в AFD\", \"Mama's в Samal Towers\", \"Mama's в CDC-1\", 'КОСМҰЗ', 'G Balik Express', 'Korean street food на Абая', 'Korean street food на Чайковского', 'Korean street food на Тимирязева', 'MC Burger', 'Kebab Haus Grill в Алмалы', 'Kebab Haus Grill в мкрн Мамыр', 'Kebab Haus Grill в Mega Center', 'Анталья', 'StarBurger в ADK', 'StarBurger в Mega Center', 'Istanbul в Mart', 'Istanbul в Прайм Плаза', 'Istanbul в Мол Апорт', 'Texas Chicken в ADK', 'Texas Chicken в Cпутнике', 'ПерекуCity! на Абылай хана', 'SFC в ТРК ADK', 'SFC в Asia Park', 'SFC в Mart', 'Mr.Donerci & Burger на Абая', 'Mr.Donerci & Вurger на Абая-Манаса', 'Hardee’s на Гоголя', 'Hardee’s в Mega Center', 'Hardee’s в Mega Park', 'Hardee’s в Dostyk Plaza', 'Hardee’s MOSKVA Metropolitan', 'Ramen', 'Burger King Globus', 'Burger King на Панфилова', 'Burger King на Абая', 'Burger King в Mega Center', 'Burger King в Dostyk Plaza', 'Burger King в Esentai mall', 'Burger King в Арман', 'Burger King на Саина', 'Burger King в Mega Park', 'Burger King в Maxima', 'KFC на Гоголя', 'KFC в Silk Way City', 'KFC в ADK', 'KFC в Жетысу 3', 'KFC на Суюнбая', 'KFC в Domillion', 'KFC в Esentai mall', 'KFC в Mega Center', 'KFC в Maxima', 'KFC в Aport mall', 'KFC в Mega Park', 'KFC в Globus', 'KFC в Dostyk Plaza', 'KFC на Тимирязева', 'KFC на Толе би', 'KFC на Абая', \"McDonald's ® на Толе би\", \"McDonald's ® в Мамыр 4\", \"McDonald's ® в Mega Park\", \"McDonald's ® в Mega Center Alma-Ata\", 'Пельмешка', 'МиМи по Назарбаева', 'Yummy', 'SOFRA', 'Madeni kofte & doner', 'Cinar', 'EAT simple good food', 'Пещера', 'SSultan', 'Madeni Space', 'Лагманхана Асхана на Жарокова', 'Kuk-si на Аль-Фараби', 'Basilic на Желтоксан', 'Изуми', 'Compromise', 'МиМи по Зенкова', 'Варим парим', 'Городская кухня', 'Дунганка на Назарбаева', 'Татти на Сатпаева', 'Татти на Байтурсынова', 'Тағам на Кунаева', 'Тағам на Жандосова', 'Тағам на Орбита 3', 'Тағам на Толе би', 'Тағам на Абая-Алтынсарина', 'Тағам на Толе би-Жарокова', 'Uskudar Kavurma', 'Каганат на Гоголя', 'Каганат в 12 мкрн', 'Каганат на Богенбай батыра', 'Каганат на Абая 125 А', 'Каганат на Достык', 'Каганат на Жибек Жолы', 'Каганат на Абая 48 B', 'Каганат в мкрн Орбита 2', 'Каганат на Райымбека 212/2', 'Каганат на Райымбека 152', 'Каганат на Гагарина', 'Каганат в мкрн Аксай 4', 'Каганат в мкрн Коктем 2', 'Каганат на Толе би 296 А', 'Каганат на Жарокова', 'Каганат на Толе би 264 А', 'Каганат на Акан Серы', 'Каганат на Манаса', 'Каганат на Фурманова', 'Каганат на Суюнбая', 'Каганат на Айнабулак 2', 'Toi Food', 'Paradise, асхана на Сейфуллина', 'Paradise, асхана на Радлова', 'Arafat', 'Paradise, асхана на Рыскулбекова', 'Домик с блинами', 'Ташкент', 'Zumrudu Anka', 'StoLoveKa в КБТУ', 'StoLoveKa в Esentai Tower', 'StoLoveKa в БЦ Каусар', 'Basilic на Шевченко', \"Goodman's Steak House\", 'Goodbeef Steak House', 'Kalyan & Steak House', 'Хмель и Хлеб', 'Heaven Hill', 'Terrace 77', 'Picnic Summer Bar', 'Food Park', 'Pine Hill', 'LOOK']\n"
     ]
    }
   ],
   "source": [
    "print(len(file['Заведения: '].value_counts()))\n",
    "print(list(file['Заведения: '].unique()))"
   ]
  },
  {
   "cell_type": "code",
   "execution_count": null,
   "metadata": {},
   "outputs": [],
   "source": [
    "Malina Group"
   ]
  },
  {
   "cell_type": "code",
   "execution_count": 44,
   "metadata": {},
   "outputs": [
    {
     "name": "stdout",
     "output_type": "stream",
     "text": [
      "372\n",
      "['Восточная, Европейская', 'Восточная, Европейская, Казахская', 'Китайская, Европейская', 'Морепродукты, Средиземноморская, Японская', 'Турецкая, Американская, Европейская', 'Европейская, Итальянская', 'Китайская', 'Европейская, Кавказская', 'Европейская, Азиатская', 'Узбекская, Восточная', 'Европейская', 'Восточная, Узбекская', 'Грузинская', 'Ближневосточная', 'Французская, Европейская', 'Азиатская, Паназиатская', 'Итальянская', 'Японская', 'Средиземноморская', 'Грузинская, Европейская', 'Американская, Европейская', 'Корейская', 'Индийская', 'Испанская', 'Турецкая', 'Европейская, Восточная', 'Кавказская, Европейская', 'Латино-американская', 'Европейская, Гриль меню', 'Корейская, Паназиатская, Японская', 'Восточная, Узбекская, Казахская', 'Средиземноморская, Итальянская', 'Восточная, Узбекская, Гриль меню, Европейская', 'Немецкая, Европейская', 'Средиземноморская, Турецкая, Европейская', 'Европейская, Японская, Паназиатская', 'Авторская, Американская, Японская, Европейская', 'Индийская, Грузинская, Европейская, Вегетарианская', 'Итальянская, Авторская', 'Авторская, Европейская, Средиземноморская', 'Европейская, Паназиатская', 'Гриль меню, Европейская', 'Авторская, Европейская', 'Казахская, Уйгурская, Узбекская, Восточная', 'Итальянская, Авторская, Европейская', 'Узбекская', 'Авторская', 'Турецкая, Гриль меню', 'Европейская, Авторская', 'Индийская, Ливанская', 'Американская, Барбекю', 'Авторская, Европейская, Русская', 'Восточная, Казахская, Узбекская', 'Европейская, Казахская, Русская', 'Восточная, Грузинская, Кавказская, Русская, Европейская', 'Европейская, Японская, Средиземноморская', 'Европейская, Русская', 'Европейская, Восточная, Итальянская', 'Восточная, Европейская, Узбекская', 'Европейская, Средиземноморская', 'Гриль меню, Американская, Кавказская, Европейская', 'Индийская, Ливанская, Восточная', 'Казахская', 'Восточная, Турецкая, Итальянская', 'Гриль меню', 'Уйгурская, Восточная, Европейская', 'Авторская, Вегетарианская', 'Восточная, Европейская, Японская', 'Европейская, Казахская', 'Европейская, Казахская, Грузинская', 'Восточная, Европейская, Кавказская', 'Кавказская, Казахская, Европейская', 'Казахская, Восточная', 'Грузинская, Казахская, Европейская', 'Казахская, Узбекская, Уйгурская, Китайская, Европейская', 'Восточная, Европейская, Итальянская, Казахская, Японская', 'Европейская, Итальянская, Русская, Татарская, Японская', 'Русская, Европейская', 'Корейская, Европейская', 'Тайская, Японская', 'Авторская, Европейская, Вегетарианская', 'Морепродукты, Средиземноморская', 'Восточная, Европейская, Казахская, Узбекская', 'Восточная, Грузинская, Европейская', 'Европейская, Итальянская, Морепродукты, Средиземноморская, Французская', 'Средиземноморская, Морепродукты, Турецкая', 'Европейская, Японская, Гриль меню', 'Морепродукты, Китайская', 'Казахская, Европейская', 'Европейская, Индийская, Турецкая', 'Европейская, Китайская, Японская', 'Восточная, Европейская, Китайская', 'Европейская, Кавказская, Казахская', 'Средиземноморская, Европейская, Итальянская', 'Европейская, Мексиканская', 'Грузинская, Европейская, Казахская', 'Грузинская, Европейская, Китайская, Узбекская', 'Американская, Европейская, Мексиканская', 'Европейская, Восточная, Казахская', 'Грузинская, Итальянская, Украинская, Восточная', 'Итальянская, Японская', 'Европейская, Кавказская, Немецкая', 'Грузинская, Европейская, Кавказская', 'Восточная, Казахская, Китайская, Узбекская', 'Европейская, Итальянская, Французская', 'Итальянская, Японская, Авторская', 'Армянская, Грузинская, Кавказская', 'Восточная, Европейская, Турецкая, Японская', 'Грузинская, Кавказская', 'Европейская, Итальянская, Японская', 'Азербайджанская, Уйгурская, Европейская, Кавказская', 'Арабская, Европейская', 'Скандинавская', 'Грузинская, Европейская, Кавказская, Казахская', 'Европейская, Немецкая, Русская', 'Тирольская, Немецкая, Европейская', 'Европейская, Немецкая', 'Европейская, Китайская, Грузинская', 'Восточная, Европейская, Казахская, Узбекская, Грузинская', 'Европейская, Грузинская', 'Европейская, Греческая', 'Восточная, Азербайджанская, Европейская, Русская', 'Чешская', 'Итальянская, Русская, Средиземноморская', 'Азиатская, Китайская, Морепродукты', 'Итальянская, Американская', 'Казахская, Европейская, Итальянская', 'Азиатская, Европейская, Казахская, Русская', 'Корейская, Паназиатская, Японская, Гриль меню', 'Европейская, Казахская, Турецкая', 'Чешская, Европейская', 'Европейская, Итальянская, Паназиатская', 'Европейская, Немецкая, Кавказская', 'Узбекская, Европейская', 'Паназиатская, Азиатская, Тайская', 'Индийская, Китайская', 'Европейская, Итальянская, Русская, Японская', 'Восточная, Японская', 'Европейская, Итальянская, Русская, Чешская, Японская', 'Немецкая, Грузинская, Кавказская, Европейская', 'Азербайджанская, Казахская, Киргизская, Татарская, Турецкая, Узбекская, Уйгурская', 'Средиземноморская, Морепродукты', 'Тайская, Европейская', 'Американская, Европейская, Турецкая', 'Белорусская, Русская, Европейская, Украинская', 'Азиатская, Гриль меню, Европейская, Турецкая, Японская', 'Китайская, Вегетарианская', 'Итальянская, Морепродукты', 'Китайская, Паназиатская, Американская', 'Европейская, Средиземноморская, Итальянская', 'Европейская, Итальянская, Средиземноморская', 'Американская, Кавказская, Русская, Японская, Итальянская', 'Восточная, Европейская, Итальянская', 'Казахская, Азиатская, Китайская, Европейская, Японская', 'Английская, Европейская, Индийская', 'Европейская, Русская, Японская', 'Русская', 'Американская, Мексиканская', 'Индийская, Китайская, Тайская', 'Восточная', 'Европейская, Казахская, Восточная', 'Восточная, Казахская, Европейская', 'Восточная, Европейская, Мексиканская', 'Восточная, Китайская, Европейская, Казахская', 'Восточная, Европейская, Китайская, Казахская', 'Корейская, Европейская, Восточная', 'Восточная, Казахская', 'Казахская, Восточная, Европейская', 'Европейская, Грузинская, Восточная', 'Китайская, Уйгурская, Авторская', 'Казахская, Европейская, Восточная', 'Казахская, Европейская, Восточная, Корейская', 'Европейская, Грузинская, Казахская', 'Восточная, Итальянская', 'Восточная, Европейская, Казахская, Китайская', 'Восточная, Европейская, Казахская, Японская', 'Итальянская, Кавказская, Восточная', 'Восточная, Европейская, Кавказская, Казахская', 'Европейская, Казахская, Корейская', 'Европейская, Китайская', 'Восточная, Европейская, Грузинская', 'Дунганская, Европейская, Восточная, Грузинская', 'Европейская, Азиатская, Средиземноморская', 'Восточная, Европейская, Корейская', 'Азиатская, Европейская', 'Европейская, Азиатская, Казахская', 'Азербайджанская, Восточная, Грузинская, Европейская', 'Азиатская, Европейская, Японская', 'Европейская, Японская', 'Китайская, Европейская, Грузинская', 'Европейская, Кавказская, Японская', 'Нет кухни', 'Европейская, Американская', 'Американская', 'Американская, Гриль меню', 'Гриль меню, Американская', 'Азиатская, Итальянская, Кавказская, Турецкая', 'Итальянская, Европейская, Японская', 'Европейская, Итальянская, Азиатская', 'Паназиатская, Европейская, Итальянская, Русская, Авторская', 'Паназиатская, Китайская', 'Европейская, Кавказская, Грузинская, Гриль меню', 'Авторская, Американская, Европейская', 'Итальянская, Европейская', 'Японская, Европейская', 'Авторская, Американская, Английская', 'Европейская, Итальянская, Узбекская', 'Американская, Грузинская', 'Европейская, Американская, Гриль меню', 'Американская, Итальянская', 'Азиатская, Европейская, Вегетарианская', 'Английская, Европейская', 'Восточная, Европейская, Кавказская, Японская', 'Европейская, Итальянская, Кавказская', 'Европейская, Итальянская, Восточная', 'Европейская, Шотландская', 'Европейская, Турецкая, Гриль меню', 'Европейская, Азиатская, Американская', 'Европейская, Японская, Итальянская', 'Европейская, Ирландская', 'Азиатская, Европейская, Итальянская', 'Английская, Европейская, Японская, Мексиканская', 'Узбекская, Казахская, Европейская, Кавказская', 'Европейская, Индийская', 'Ирландская', 'Европейская, Итальянская, Мексиканская', 'Европейская, Итальянская, Русская', 'Европейская, Корейская, Японская', 'Азиатская, Китайская', 'Узбекская, Европейская, Корейская', 'Корейская, Японская, Китайская', 'Паназиатская, Европейская', 'Кавказская, Грузинская, Европейская, Казахская', 'Восточная, Итальянская, Японская', 'Американская, Европейская, Итальянская', 'Европейская, Вегетарианская', 'Восточная, Кавказская, Европейская', 'Еврейская, Арабская', 'Авторская, Европейская, Азиатская', 'Узбекская, Кавказская', 'Барбекю, Американская', 'Дунганская, Китайская, Восточная', 'Восточная, Кавказская', 'Китайская, Уйгурская', 'Корейская, Европейская, Японская', 'Европейская, Итальянская, Американская', 'Кавказская, Грузинская, Европейская', 'Турецкая, Европейская', 'Казахская, Восточная, Уйгурская, Китайская', 'Дунганская, Европейская, Кавказская', 'Дунганская, Восточная', 'Японская, Паназиатская', 'Азербайджанская, Грузинская, Европейская', 'Европейская, Грузинская, Итальянская, Казахская', 'Европейская, Турецкая, Итальянская', 'Восточная, Китайская, Узбекская', 'Казахская, Узбекская', 'Восточная, Европейская, Турецкая', 'Вьетнамская', 'Кавказская, Восточная, Грузинская', 'Азиатская, Японская, Восточная', 'Европейская, Восточная, Турецкая', 'Итальянская, Паназиатская', 'Уйгурская, Восточная', 'Итальянская, Европейская, Восточная', 'Восточная, Европейская, Мексиканская, Японская', 'Корейская, Китайская', 'Тайская, Вегетарианская', 'Кавказская', 'Дунганская, Восточная, Европейская', 'Кавказская, Восточная', 'Европейская, Итальянская, Паназиатская, Японская', 'Вегетарианская', 'Узбекская, Восточная, Европейская', 'Дунганская, Китайская', 'Кавказская, Европейская, Восточная', 'Европейская, Кавказская, Грузинская', 'Европейская, Турецкая', 'Корейская, Японская', 'Восточная, Узбекская, Европейская', 'Европейская, Кавказская, Узбекская', 'Грузинская, Восточная, Европейская', 'Турецкая, Восточная', 'Азербайджанская, Кавказская, Восточная, Китайская', 'Итальянская, Американская, Японская', 'Европейская, Корейская', 'Грузинская, Кавказская, Восточная', 'Грузинская, Европейская, Итальянская', 'Кавказская, Грузинская, Европейская, Восточная', 'Китайская, Восточная, Европейская', 'Грузинская, Европейская, Восточная', 'Грузинская, Кавказская, Европейская', 'Европейская, Корейская, Японская, Сербская', 'Французская', 'Японская, Корейская, Паназиатская', 'Восточная, Европейская, Китайская, Уйгурская', 'Китайская, Дунганская', 'Корейская, Европейская, Грузинская', 'Азиатская, Европейская, Казахская', 'Корейская, Европейская, Паназиатская', 'Корейская, Восточная, Европейская', 'Грузинская, Японская, Европейская', 'Восточная, Европейская, Кавказская, Китайская', 'Дунганская, Китайская, Кавказская', 'Дунганская', 'Кавказская, Грузинская, Восточная', 'Азербайджанская, Кавказская, Грузинская', 'Восточная, Китайская', 'Европейская, Кавказская, Гриль меню', 'Японская, Корейская, Узбекская, Китайская', 'Кавказская, Казахская, Европейская, Гриль меню, Восточная', 'Корейская, Японская, Европейская', 'Европейская, Корейская, Уйгурская, Японская', 'Китайская, Европейская, Восточная', 'Европейская, Корейская, Сербская, Японская', 'Азиатская, Восточная, Европейская', 'Восточная, Европейская, Китайская, Узбекская', 'Авторская, Европейская, Японская', 'Кавказская, Восточная, Европейская', 'Европейская, Кавказская, Китайская, Уйгурская', 'Европейская, Итальянская, Мексиканская, Японская', 'Узбекская, Казахская, Грузинская', 'Армянская, Кавказская', 'Итальянская, Корейская, Русская, Узбекская, Японская', 'Кавказская, Азербайджанская, Европейская', 'Европейская, Грузинская, Кавказская', 'Европейская, Вегетарианская, Итальянская', 'Вегетарианская, Индийская', 'Европейская, Итальянская, Корейская, Японская', 'Мексиканская, Европейская, Японская', 'Европейская, Французская, Итальянская', 'Европейская, Американская, Итальянская', 'Итальянская, Корейская', 'Европейская, Кавказская, Восточная, Японская', 'Японская, Корейская, Европейская', 'Европейская, Итальянская, Корейская', 'Европейская, Корейская, Узбекская, Японская', 'Европейская, Казахская, Тайская', 'Азиатская, Европейская, Восточная, Казахская, Китайская', 'Международная', 'Японская, Итальянская', 'Японская, Корейская', 'Японская, Морепродукты', 'Японская, Тайская', 'Японская, Итальянская, Китайская', 'Азиатская, Итальянская, Корейская', 'Итальянская, Японская, Европейская', 'Итальянская, Японская, Китайская', 'Итальянская, Европейская, Кавказская, Восточная', 'Итальянская, Европейская, Восточная, Кавказская', 'Итальянская, Восточная, Турецкая', 'Итальянская, Японская, Турецкая', 'Паназиатская', 'Восточная, Дунганская, Европейская', 'Европейская, Мексиканская, Итальянская, Американская', 'Паназиатская, Азиатская', 'Еврейская', 'Турецкая, Итальянская', 'Авторская, Американская, Турецкая', 'Восточная, Уйгурская', 'Турецкая, Итальянская, Американская', 'Казахская, Русская, Узбекская', 'Американская, Восточная, Европейская, Корейская', 'Итальянская, Турецкая, Американская', 'Мексиканская', 'Турецкая, Средиземноморская', 'Английская', 'Восточная, Европейская, Мексиканская, Китайская', 'Европейская, Русская, Восточная', 'Европейская, Дунганская, Восточная', 'Восточная, Турецкая', 'Американская, Кавказская']\n"
     ]
    }
   ],
   "source": [
    "print(len(file['Кухни: '].value_counts()))\n",
    "print(list(file['Кухни: '].unique()))"
   ]
  },
  {
   "cell_type": "code",
   "execution_count": 52,
   "metadata": {},
   "outputs": [
    {
     "data": {
      "text/html": [
       "<div>\n",
       "<style scoped>\n",
       "    .dataframe tbody tr th:only-of-type {\n",
       "        vertical-align: middle;\n",
       "    }\n",
       "\n",
       "    .dataframe tbody tr th {\n",
       "        vertical-align: top;\n",
       "    }\n",
       "\n",
       "    .dataframe thead th {\n",
       "        text-align: right;\n",
       "    }\n",
       "</style>\n",
       "<table border=\"1\" class=\"dataframe\">\n",
       "  <thead>\n",
       "    <tr style=\"text-align: right;\">\n",
       "      <th></th>\n",
       "      <th>Сайт:</th>\n",
       "      <th>Ссылка:</th>\n",
       "      <th>Заведения:</th>\n",
       "      <th>Кухни:</th>\n",
       "    </tr>\n",
       "  </thead>\n",
       "  <tbody>\n",
       "  </tbody>\n",
       "</table>\n",
       "</div>"
      ],
      "text/plain": [
       "Empty DataFrame\n",
       "Columns: [Сайт: , Ссылка: , Заведения: , Кухни: ]\n",
       "Index: []"
      ]
     },
     "execution_count": 52,
     "metadata": {},
     "output_type": "execute_result"
    }
   ],
   "source": [
    "file[file['Заведения: ']=='VISTA']"
   ]
  },
  {
   "cell_type": "code",
   "execution_count": 30,
   "metadata": {},
   "outputs": [
    {
     "name": "stdout",
     "output_type": "stream",
     "text": [
      "15\n"
     ]
    },
    {
     "data": {
      "text/plain": [
       "https://restolife.kz/letniaia-terrasa/    541\n",
       "https://restolife.kz/cafe/                502\n",
       "https://restolife.kz/restoran/            364\n",
       "https://restolife.kz/bar/                 312\n",
       "https://restolife.kz/banketnyi-zal/       223\n",
       "https://restolife.kz/kofeinia/            188\n",
       "https://restolife.kz/fastfood/            147\n",
       "https://restolife.kz/karaoke/             139\n",
       "https://restolife.kz/dostavka-edy/        109\n",
       "https://restolife.kz/pitstseriia/          74\n",
       "https://restolife.kz/stolovaia/            71\n",
       "https://restolife.kz/sushi/                54\n",
       "https://restolife.kz/centr-otdykha/        48\n",
       "https://restolife.kz/nochnoi-club/         38\n",
       "https://restolife.kz/steakhouse/           19\n",
       "Name: Ссылка: , dtype: int64"
      ]
     },
     "execution_count": 30,
     "metadata": {},
     "output_type": "execute_result"
    }
   ],
   "source": [
    "print(len(file['Ссылка: '].value_counts()))\n",
    "file['Ссылка: '].value_counts()"
   ]
  },
  {
   "cell_type": "code",
   "execution_count": 80,
   "metadata": {},
   "outputs": [],
   "source": [
    "resto = pd.read_csv('restorans.txt',header = None,delimiter='\\\\')"
   ]
  },
  {
   "cell_type": "code",
   "execution_count": 81,
   "metadata": {},
   "outputs": [
    {
     "data": {
      "text/html": [
       "<div>\n",
       "<style scoped>\n",
       "    .dataframe tbody tr th:only-of-type {\n",
       "        vertical-align: middle;\n",
       "    }\n",
       "\n",
       "    .dataframe tbody tr th {\n",
       "        vertical-align: top;\n",
       "    }\n",
       "\n",
       "    .dataframe thead th {\n",
       "        text-align: right;\n",
       "    }\n",
       "</style>\n",
       "<table border=\"1\" class=\"dataframe\">\n",
       "  <thead>\n",
       "    <tr style=\"text-align: right;\">\n",
       "      <th></th>\n",
       "      <th>0</th>\n",
       "    </tr>\n",
       "  </thead>\n",
       "  <tbody>\n",
       "    <tr>\n",
       "      <th>0</th>\n",
       "      <td>https://restolife.kz/restoran/agosto/ Кухня: A...</td>\n",
       "    </tr>\n",
       "    <tr>\n",
       "      <th>1</th>\n",
       "      <td>https://restolife.kz/restoran/laureate-grand-c...</td>\n",
       "    </tr>\n",
       "    <tr>\n",
       "      <th>2</th>\n",
       "      <td>https://restolife.kz/restoran/shukran/ Кухня: ...</td>\n",
       "    </tr>\n",
       "    <tr>\n",
       "      <th>3</th>\n",
       "      <td>https://restolife.kz/centr-otdykha/alma-hills/...</td>\n",
       "    </tr>\n",
       "    <tr>\n",
       "      <th>4</th>\n",
       "      <td>https://restolife.kz/restoran/prasad/ Кухня: P...</td>\n",
       "    </tr>\n",
       "    <tr>\n",
       "      <th>...</th>\n",
       "      <td>...</td>\n",
       "    </tr>\n",
       "    <tr>\n",
       "      <th>208</th>\n",
       "      <td>https://restolife.kz/restoran/korean-house-na-...</td>\n",
       "    </tr>\n",
       "    <tr>\n",
       "      <th>209</th>\n",
       "      <td>https://restolife.kz/restoran/korean-house-v-e...</td>\n",
       "    </tr>\n",
       "    <tr>\n",
       "      <th>210</th>\n",
       "      <td>https://restolife.kz/restoran/del-papa-na-dost...</td>\n",
       "    </tr>\n",
       "    <tr>\n",
       "      <th>211</th>\n",
       "      <td>https://restolife.kz/restoran/del-papa-na-bukh...</td>\n",
       "    </tr>\n",
       "    <tr>\n",
       "      <th>212</th>\n",
       "      <td>https://restolife.kz/restoran/del-papa-v-mkr-o...</td>\n",
       "    </tr>\n",
       "  </tbody>\n",
       "</table>\n",
       "<p>213 rows × 1 columns</p>\n",
       "</div>"
      ],
      "text/plain": [
       "                                                     0\n",
       "0    https://restolife.kz/restoran/agosto/ Кухня: A...\n",
       "1    https://restolife.kz/restoran/laureate-grand-c...\n",
       "2    https://restolife.kz/restoran/shukran/ Кухня: ...\n",
       "3    https://restolife.kz/centr-otdykha/alma-hills/...\n",
       "4    https://restolife.kz/restoran/prasad/ Кухня: P...\n",
       "..                                                 ...\n",
       "208  https://restolife.kz/restoran/korean-house-na-...\n",
       "209  https://restolife.kz/restoran/korean-house-v-e...\n",
       "210  https://restolife.kz/restoran/del-papa-na-dost...\n",
       "211  https://restolife.kz/restoran/del-papa-na-bukh...\n",
       "212  https://restolife.kz/restoran/del-papa-v-mkr-o...\n",
       "\n",
       "[213 rows x 1 columns]"
      ]
     },
     "execution_count": 81,
     "metadata": {},
     "output_type": "execute_result"
    }
   ],
   "source": [
    "resto"
   ]
  },
  {
   "cell_type": "code",
   "execution_count": 79,
   "metadata": {},
   "outputs": [
    {
     "data": {
      "text/plain": [
       "340"
      ]
     },
     "execution_count": 79,
     "metadata": {},
     "output_type": "execute_result"
    }
   ],
   "source": [
    "sites = ['https://restolife.kz/restoran/agosto/', 'https://restolife.kz/restoran/laureate-grand-cafe/', 'https://restolife.kz/restoran/shukran/', 'https://restolife.kz/centr-otdykha/alma-hills/', 'https://restolife.kz/restoran/prasad/', 'https://restolife.kz/restoran/milk-honey/', 'https://restolife.kz/restoran/praha/', 'https://restolife.kz/restoran/bitanga/', 'https://restolife.kz/restoran/tole-bi/reviews/', 'https://restolife.kz/restoran/est-xinkali-pit-vino/', 'https://restolife.kz/restoran/chaixona-shaxar/', 'https://restolife.kz/restoran/batyr/', 'https://restolife.kz/restoran/xmelnicza-na-navoi/', 'https://restolife.kz/restoran/tango/', 'https://restolife.kz/restoran/sunroof/', 'https://restolife.kz/restoran/pioner/', 'https://restolife.kz/bar/wine-gallery/', 'https://restolife.kz/restoran/the-monkey/reviews/', 'https://restolife.kz/restoran/narsharab/reviews/', 'https://restolife.kz/restoran/pinta-bar-grill-mall-aport/', 'https://restolife.kz/restoran/shashlykoff-grill-amp-bar-dostyk/', 'https://restolife.kz/restoran/kish-mish/', 'https://restolife.kz/restoran/uch-lyagan-city/', 'https://restolife.kz/restoran/big-chefs/reviews/', 'https://restolife.kz/restoran/bassiani/', 'https://restolife.kz/restoran/fumo/reviews/', 'https://restolife.kz/restoran/grand-zina/', 'https://restolife.kz/restoran/dijon/', 'https://restolife.kz/restoran/ztb/', 'https://restolife.kz/restoran/sapori-veri/reviews/', 'https://restolife.kz/restoran/oblaka/', 'https://restolife.kz/restoran/forest/', 'https://restolife.kz/restoran/rodnya/', 'https://restolife.kz/restoran/lyubov-i-golubi/reviews/', 'https://restolife.kz/kofeinia/double-coffee-na-gogol/reviews/', 'https://restolife.kz/restoran/rabad/', 'https://restolife.kz/bar/sherwood/', 'https://restolife.kz/restoran/bochonok-na-dostyk/', 'https://restolife.kz/restoran/zags/', 'https://restolife.kz/restoran/origus/reviews/', 'https://restolife.kz/restoran/ribaj/', 'https://restolife.kz/restoran/xan-kebab/reviews/', 'https://restolife.kz/restoran/del-papa-dostyk-plaza/', 'https://restolife.kz/restoran/xachapuri-i-vino/', 'https://restolife.kz/restoran/grill-house/reviews/', 'https://restolife.kz/restoran/grill-house-mega/', 'https://restolife.kz/restoran/azia-mama/reviews/', 'https://restolife.kz/restoran/chajxana-navat-makataeva/', 'https://restolife.kz/restoran/meziret/reviews/', 'https://restolife.kz/restoran/dapanji-bahyt/reviews/', 'https://restolife.kz/restoran/ziyafet-fish-house/', 'https://restolife.kz/restoran/cherish/', 'https://restolife.kz/restoran/aquarium/reviews/', 'https://restolife.kz/restoran/la-jia-gourmet/', 'https://restolife.kz/restoran/salt/', 'https://restolife.kz/restoran/aprel/', 'https://restolife.kz/restoran/almaata/', 'https://restolife.kz/restoran/tyubetejka-abylaj-xana/', 'https://restolife.kz/restoran/china-room/', 'https://restolife.kz/restoran/rumi-trcz-moskva/', 'https://restolife.kz/restoran/mountain-pub-aport-alatau/', 'https://restolife.kz/restoran/chajxana-navat-esentai/', 'https://restolife.kz/restoran/chito-grito-na-rozybakieva/', 'https://restolife.kz/restoran/alycha-samal/', 'https://restolife.kz/restoran/sababa/', 'https://restolife.kz/restoran/georgian-house/', 'https://restolife.kz/restoran/le-resto/', 'https://restolife.kz/restoran/truecost/reviews/', 'https://restolife.kz/bar/alfa/', 'https://restolife.kz/restoran/balu/', 'https://restolife.kz/restoran/ostrowok/reviews/', 'https://restolife.kz/restoran/adagio-restaurant/', 'https://restolife.kz/restoran/japanese-grill-esentai-city/', 'https://restolife.kz/restoran/mediterranean-restaurant/', 'https://restolife.kz/restoran/tavaduri/reviews/', 'https://restolife.kz/restoran/atmosfera/', 'https://restolife.kz/restoran/hanok/', 'https://restolife.kz/restoran/maharaja/reviews/', 'https://restolife.kz/restoran/everyday/', 'https://restolife.kz/restoran/seven-bar-and-restaurant/', 'https://restolife.kz/restoran/la-rioja/', 'https://restolife.kz/restoran/georgian-restaurant-esentai-city/', 'https://restolife.kz/restoran/mado/', 'https://restolife.kz/cafe/confetti/', 'https://restolife.kz/restoran/kenrai/', 'https://restolife.kz/restoran/vera-i-vake/reviews/', 'https://restolife.kz/restoran/arcobaleno/reviews/', 'https://restolife.kz/restoran/tal-cafe-restaurant/', 'https://restolife.kz/restoran/nino/reviews/', 'https://restolife.kz/restoran/aroma-indian-restaurant/', 'https://restolife.kz/bar/grelka/', 'https://restolife.kz/restoran/turan/', 'https://restolife.kz/restoran/satori/', 'https://restolife.kz/restoran/chajxana-navat-na-sejfullina/', 'https://restolife.kz/restoran/fornarina-by-gradik/reviews/', 'https://restolife.kz/restoran/frau-irma/reviews/', 'https://restolife.kz/restoran/odessa/', 'https://restolife.kz/restoran/caviar/', 'https://restolife.kz/restoran/vremya-est-pit/reviews/', 'https://restolife.kz/restoran/nautica/', 'https://restolife.kz/restoran/salaam-namaste/', 'https://restolife.kz/restoran/ab-restoran/', 'https://restolife.kz/bar/1gog/reviews/', 'https://restolife.kz/restoran/river-park/', 'https://restolife.kz/sushi/tanuki/reviews/', 'https://restolife.kz/restoran/horoshiy-god/reviews/', 'https://restolife.kz/restoran/qaimaq/reviews/', 'https://restolife.kz/restoran/honey-honey/', 'https://restolife.kz/restoran/svet/', 'https://restolife.kz/restoran/chachapuri/reviews/', 'https://restolife.kz/restoran/capriccio/reviews/', 'https://restolife.kz/restoran/malvazija/', 'https://restolife.kz/restoran/stolichnyj/', 'https://restolife.kz/restoran/cicek-mangal-3/', 'https://restolife.kz/restoran/ferma/reviews/', 'https://restolife.kz/restoran/alma-ata/reviews/', 'https://restolife.kz/restoran/ocean-basket-na-panfilova/', 'https://restolife.kz/restoran/thali/', 'https://restolife.kz/restoran/telavi/reviews/', 'https://restolife.kz/cafe/pushkin/reviews/', 'https://restolife.kz/restoran/shurpa/', 'https://restolife.kz/restoran/jz-peking-duck/reviews/', 'https://restolife.kz/restoran/saint-pierre/reviews/', 'https://restolife.kz/restoran/afisha/reviews/', 'https://restolife.kz/restoran/navat/reviews/', 'https://restolife.kz/restoran/dadiani/reviews/', 'https://restolife.kz/restoran/pech/reviews/', 'https://restolife.kz/restoran/zmood/', 'https://restolife.kz/restoran/lariss-ivannu-xachu-na-rozybakieva/reviews/', 'https://restolife.kz/restoran/pinta-moskva/', 'https://restolife.kz/restoran/ataman/', 'https://restolife.kz/restoran/chak-chak/reviews/', 'https://restolife.kz/restoran/marakanda/reviews/', 'https://restolife.kz/restoran/hansan/', 'https://restolife.kz/restoran/la-taverna/', 'https://restolife.kz/restoran/beefeater/', 'https://restolife.kz/restoran/shashlykoff-grill-bar/reviews/', 'https://restolife.kz/restoran/bombay-to-beirut/', 'https://restolife.kz/restoran/prime-house/', 'https://restolife.kz/restoran/zira/', 'https://restolife.kz/restoran/sydyk/reviews/', 'https://restolife.kz/banketnyi-zal/river-hall/reviews/', 'https://restolife.kz/restoran/nurym/', 'https://restolife.kz/restoran/mangal-house/', 'https://restolife.kz/restoran/as-timian/', 'https://restolife.kz/restoran/grill-na-kok-tobe/', 'https://restolife.kz/restoran/farm-house/', 'https://restolife.kz/restoran/inzhu/reviews/', 'https://restolife.kz/restoran/arbuz/', 'https://restolife.kz/restoran/pekinskaya-utka/', 'https://restolife.kz/restoran/palladium/reviews/', 'https://restolife.kz/restoran/arsha/reviews/', 'https://restolife.kz/restoran/borgo-antico/', 'https://restolife.kz/restoran/la-fondue/reviews/', 'https://restolife.kz/restoran/assalam/reviews/', 'https://restolife.kz/restoran/kaspij/', 'https://restolife.kz/restoran/nur-el/reviews/', 'https://restolife.kz/restoran/abaj/reviews/', 'https://restolife.kz/restoran/bambarbiya-kergudu/', 'https://restolife.kz/restoran/astra/', 'https://restolife.kz/restoran/asel/reviews/', 'https://restolife.kz/restoran/dvoryanskij/reviews/', 'https://restolife.kz/restoran/traktir-medved-na-satpaeva/', 'https://restolife.kz/bar/venezia/', 'https://restolife.kz/restoran/vanilnoe-nebo/reviews/', 'https://restolife.kz/restoran/ocean-basket/reviews/', 'https://restolife.kz/restoran/qazaq-restaurant/', 'https://restolife.kz/restoran/thai/', 'https://restolife.kz/restoran/ermitazh/reviews/', 'https://restolife.kz/restoran/the-grill/', 'https://restolife.kz/restoran/kishlak-na-dostyk/', 'https://restolife.kz/restoran/meat/', 'https://restolife.kz/restoran/tarxun/', 'https://restolife.kz/restoran/brasserie/', 'https://restolife.kz/restoran/vaxtanguri/reviews/', 'https://restolife.kz/banketnyi-zal/minari/', 'https://restolife.kz/restoran/sakvoyazh/', 'https://restolife.kz/restoran/marina-et-and-balik/', 'https://restolife.kz/restoran/dickens-restaurant-bar/', 'https://restolife.kz/banketnyi-zal/xodzha-na-kok-tobe/', 'https://restolife.kz/restoran/fortune/', 'https://restolife.kz/restoran/valleta/', 'https://restolife.kz/restoran/pirate/reviews/', 'https://restolife.kz/restoran/qingdao-mamyr/reviews/', 'https://restolife.kz/restoran/zolotoj-drakon/', 'https://restolife.kz/restoran/saraj-bar-shymbulak-resort-hotel/reviews/', 'https://restolife.kz/restoran/shax-na-satpaeva/', 'https://restolife.kz/centr-otdykha/barkytbel/reviews/', 'https://restolife.kz/banketnyi-zal/agaiyn/', 'https://restolife.kz/banketnyi-zal/imperator/reviews/', 'https://restolife.kz/restoran/schaste/', 'https://restolife.kz/restoran/schaste-na-abaya/reviews/', 'https://restolife.kz/restoran/vip-gruzinka/', 'https://restolife.kz/banketnyi-zal/jasmine/reviews/', 'https://restolife.kz/restoran/ak-aul/', 'https://restolife.kz/restoran/chashnagiri-lesnaia-skazka/reviews/', 'https://restolife.kz/restoran/royal-palace/', 'https://restolife.kz/centr-otdykha/besini/', 'https://restolife.kz/restoran/ambrosia/', 'https://restolife.kz/restoran/manana/reviews/', 'https://restolife.kz/restoran/favor-meat-club/', 'https://restolife.kz/restoran/royal-cafe/', 'https://restolife.kz/restoran/duman/reviews/', 'https://restolife.kz/restoran/glasshouse/', 'https://restolife.kz/restoran/amure/reviews/', 'https://restolife.kz/restoran/salon-vkusa/',\n",
    "         'https://restolife.kz/restoran/craft-kitchen-bar/', 'https://restolife.kz/restoran/altyn-aula/reviews/', 'https://restolife.kz/restoran/europolis/', 'https://restolife.kz/restoran/oranzhevyi-verbliud/reviews/', 'https://restolife.kz/restoran/kamelot/', 'https://restolife.kz/restoran/sandal/', 'https://restolife.kz/restoran/tandir/', 'https://restolife.kz/restoran/gelato-paradais/', 'https://restolife.kz/restoran/arial/', 'https://restolife.kz/restoran/sneg-restaurant-hotel/reviews/', 'https://restolife.kz/restoran/primavera/', 'https://restolife.kz/restoran/belvedere-grill-room/', 'https://restolife.kz/restoran/bosphorus-restaurant/', 'https://restolife.kz/restoran/hmelnica/reviews/', 'https://restolife.kz/restoran/bavaria-beer-house/reviews/', 'https://restolife.kz/banketnyi-zal/tau-mergen/', 'https://restolife.kz/restoran/gornyi/', 'https://restolife.kz/restoran/avlabar/', 'https://restolife.kz/restoran/friuli/', 'https://restolife.kz/banketnyi-zal/sulu-tor/reviews/', 'https://restolife.kz/restoran/shakh/reviews/', 'https://restolife.kz/restoran/dinastia/', 'https://restolife.kz/restoran/dushes/reviews/', 'https://restolife.kz/restoran/sadu-v-mega-2/', 'https://restolife.kz/restoran/sadu-concept-store/', 'https://restolife.kz/restoran/worldhotel-saltanat-almaty/', 'https://restolife.kz/restoran/uiut/', 'https://restolife.kz/restoran/issyk/', 'https://restolife.kz/restoran/han/', 'https://restolife.kz/restoran/otrar/', 'https://restolife.kz/restoran/roma-caffe/reviews/', 'https://restolife.kz/restoran/china-town/reviews/', 'https://restolife.kz/restoran/altyn-adam/', 'https://restolife.kz/restoran/fellini/reviews/', 'https://restolife.kz/restoran/uch-liagan/reviews/', 'https://restolife.kz/restoran/la-barca-fish-wine/', 'https://restolife.kz/restoran/shavlego/', 'https://restolife.kz/restoran/cosmo-sancak/reviews/', 'https://restolife.kz/restoran/edelveis/', 'https://restolife.kz/restoran/khinkalnaia/reviews/', 'https://restolife.kz/restoran/the-float/reviews/', 'https://restolife.kz/restoran/le-dome/', 'https://restolife.kz/restoran/versal/reviews/', 'https://restolife.kz/restoran/samal/reviews/', 'https://restolife.kz/restoran/ozyurt-na-tulebaeva/', 'https://restolife.kz/bar/barstol-kok/', 'https://restolife.kz/restoran/melange/', 'https://restolife.kz/restoran/sancak/', 'https://restolife.kz/restoran/prussia/', 'https://restolife.kz/restoran/tirol/reviews/', 'https://restolife.kz/restoran/pivovaroff/reviews/', 'https://restolife.kz/restoran/wamboo/reviews/', 'https://restolife.kz/banketnyi-zal/miras/', 'https://restolife.kz/restoran/georgia-film/reviews/', 'https://restolife.kz/restoran/persona-grata/reviews/', 'https://restolife.kz/restoran/sulu/', 'https://restolife.kz/restoran/cicek-mangal-na-nusupbekov/', 'https://restolife.kz/restoran/cicek-mangal-na-zhibek-zholy/reviews/', 'https://restolife.kz/restoran/sultans-restaurant/', 'https://restolife.kz/restoran/grecheskaja-taverna/', 'https://restolife.kz/restoran/comein-na-pushkina/reviews/', 'https://restolife.kz/restoran/anel/', 'https://restolife.kz/restoran/pugasov/reviews/', 'https://restolife.kz/restoran/cheshskij-dvor/reviews/', 'https://restolife.kz/restoran/renion-hills-uno/', 'https://restolife.kz/restoran/mimino-v-orbit1/', 'https://restolife.kz/restoran/mimino-v-gornyj-gigant/', 'https://restolife.kz/banketnyi-zal/panorama/', 'https://restolife.kz/centr-otdykha/bastau/reviews/', 'https://restolife.kz/restoran/alazany/reviews/', 'https://restolife.kz/pitstseriia/tomato/reviews/', 'https://restolife.kz/pitstseriia/tomato-na-mendikulova/reviews/', 'https://restolife.kz/pitstseriia/tomato-na-tole-bi/reviews/', 'https://restolife.kz/restoran/caffe-del-teatro/', 'https://restolife.kz/restoran/asian-barbeque/', 'https://restolife.kz/restoran/lun-shan/', 'https://restolife.kz/banketnyi-zal/tilek-tas/', 'https://restolife.kz/kofeinia/double-coffee/reviews/', 'https://restolife.kz/restoran/sunset-cafe/', 'https://restolife.kz/restoran/bochonok-na-zhandosova/', 'https://restolife.kz/restoran/bochonok-mkr-orbita3/', 'https://restolife.kz/restoran/bochonok-na-furmanova/', 'https://restolife.kz/restoran/nasreddin-hodja/', 'https://restolife.kz/restoran/east/reviews/', 'https://restolife.kz/restoran/aist-na-abaya/', 'https://restolife.kz/restoran/keruen/', 'https://restolife.kz/restoran/assorti-shymbulak/', 'https://restolife.kz/restoran/assorti-kazan/', 'https://restolife.kz/restoran/assorti-kozlovna/', 'https://restolife.kz/restoran/assorti-mega/', 'https://restolife.kz/restoran/lotus/', 'https://restolife.kz/restoran/limony-zhjoltye/', 'https://restolife.kz/restoran/munich/', 'https://restolife.kz/restoran/vechnoe-nebo/reviews/', 'https://restolife.kz/restoran/dastarkhan/', 'https://restolife.kz/restoran/del-mar/reviews/', 'https://restolife.kz/restoran/belyj-slon/reviews/', 'https://restolife.kz/steakhouse/ziyafet-steak-house/reviews/', 'https://restolife.kz/restoran/pirosmani/', 'https://restolife.kz/restoran/turandot-na-dostyk/reviews/', 'https://restolife.kz/restoran/turandot-na-abaya/reviews/', 'https://restolife.kz/restoran/turandot-na-furmanova/', 'https://restolife.kz/restoran/turandot-na-zharokova/', 'https://restolife.kz/restoran/the-noodles/', 'https://restolife.kz/restoran/wagon/', 'https://restolife.kz/restoran/pinta-na-altynsarina/reviews/', 'https://restolife.kz/restoran/pinta-v-mega-alma-ata/reviews/', 'https://restolife.kz/restoran/pinta-na-auezova/reviews/', 'https://restolife.kz/restoran/pinta-na-nazarbaeva/', 'https://restolife.kz/restoran/pinta-bar-kazahstan/reviews/', 'https://restolife.kz/restoran/pinta-v-trk-adk/reviews/', 'https://restolife.kz/restoran/pinta-na-vesnovke/reviews/', 'https://restolife.kz/restoran/pinta-mega-park/reviews/', 'https://restolife.kz/restoran/princessa-na-tulebaeva/', 'https://restolife.kz/restoran/princessa-na-bogenbai-batyr/reviews/', 'https://restolife.kz/restoran/coffeeroom-trattoria/reviews/', 'https://restolife.kz/restoran/parmigiano/', 'https://restolife.kz/restoran/line-brew-mix/', 'https://restolife.kz/restoran/vista/', 'https://restolife.kz/restoran/villa-dei-fiori/reviews/', 'https://restolife.kz/restoran/entrecote/reviews/', 'https://restolife.kz/restoran/bellagio-restaurant/reviews/', 'https://restolife.kz/restoran/chalet/reviews/', 'https://restolife.kz/restoran/korean-house-v-mega-alma-ata/', 'https://restolife.kz/restoran/korean-house-na-kabanbai-batyr/', 'https://restolife.kz/restoran/korean-house-na-gogolya/', 'https://restolife.kz/restoran/korean-house-v-esentai-mall/', 'https://restolife.kz/bar/shakespeare/reviews/', 'https://restolife.kz/steakhouse/crudo/reviews/', 'https://restolife.kz/steakhouse/crudo-na-abaia/reviews/', 'https://restolife.kz/restoran/del-papa-na-kabanbai-batyr/reviews/', 'https://restolife.kz/restoran/del-papa-na-dostyk/', 'https://restolife.kz/restoran/del-papa-na-bukhar-zhyrau/', 'https://restolife.kz/restoran/del-papa-v-mkr-orbit3/']\n",
    "len(sites)\n"
   ]
  },
  {
   "cell_type": "code",
   "execution_count": 78,
   "metadata": {},
   "outputs": [
    {
     "name": "stdout",
     "output_type": "stream",
     "text": [
      "Yes\n"
     ]
    }
   ],
   "source": [
    "a = 'Praha Кухня: Чешская'\n",
    "if 'Кухня:' in set(a.split()):\n",
    "    print('Yes')\n"
   ]
  },
  {
   "cell_type": "code",
   "execution_count": 82,
   "metadata": {},
   "outputs": [],
   "source": [
    "new_data = []\n",
    "\n",
    "for i in range(resto.shape[0]):\n",
    "    new_data.append(resto.iloc[i,:][0].split('Кухня:'))"
   ]
  },
  {
   "cell_type": "code",
   "execution_count": 70,
   "metadata": {},
   "outputs": [
    {
     "data": {
      "text/plain": [
       "['Alma Hills ', ' Восточная, Европейская']"
      ]
     },
     "execution_count": 70,
     "metadata": {},
     "output_type": "execute_result"
    }
   ],
   "source": [
    "resto.iloc[3,:][0].split('Кухня:')"
   ]
  },
  {
   "cell_type": "code",
   "execution_count": 84,
   "metadata": {},
   "outputs": [],
   "source": [
    "df = pd.DataFrame(new_data, columns = ['Ссылка:','Заведения:','Кухни:'])"
   ]
  },
  {
   "cell_type": "code",
   "execution_count": 85,
   "metadata": {},
   "outputs": [],
   "source": [
    "df['Сайт:'] = ['Restolife']*resto.shape[0]"
   ]
  },
  {
   "cell_type": "code",
   "execution_count": 86,
   "metadata": {},
   "outputs": [
    {
     "data": {
      "text/html": [
       "<div>\n",
       "<style scoped>\n",
       "    .dataframe tbody tr th:only-of-type {\n",
       "        vertical-align: middle;\n",
       "    }\n",
       "\n",
       "    .dataframe tbody tr th {\n",
       "        vertical-align: top;\n",
       "    }\n",
       "\n",
       "    .dataframe thead th {\n",
       "        text-align: right;\n",
       "    }\n",
       "</style>\n",
       "<table border=\"1\" class=\"dataframe\">\n",
       "  <thead>\n",
       "    <tr style=\"text-align: right;\">\n",
       "      <th></th>\n",
       "      <th>Ссылка:</th>\n",
       "      <th>Заведения:</th>\n",
       "      <th>Кухни:</th>\n",
       "      <th>Сайт:</th>\n",
       "    </tr>\n",
       "  </thead>\n",
       "  <tbody>\n",
       "    <tr>\n",
       "      <th>0</th>\n",
       "      <td>https://restolife.kz/restoran/agosto/</td>\n",
       "      <td>AGOSTO</td>\n",
       "      <td>Итальянская, Европейская</td>\n",
       "      <td>Restolife</td>\n",
       "    </tr>\n",
       "    <tr>\n",
       "      <th>1</th>\n",
       "      <td>https://restolife.kz/restoran/laureate-grand-c...</td>\n",
       "      <td>Laureate Grand Cafe</td>\n",
       "      <td>Европейская, Морепродукты</td>\n",
       "      <td>Restolife</td>\n",
       "    </tr>\n",
       "    <tr>\n",
       "      <th>2</th>\n",
       "      <td>https://restolife.kz/restoran/shukran/</td>\n",
       "      <td>SHUKRAN</td>\n",
       "      <td>Ливанская</td>\n",
       "      <td>Restolife</td>\n",
       "    </tr>\n",
       "    <tr>\n",
       "      <th>3</th>\n",
       "      <td>https://restolife.kz/centr-otdykha/alma-hills/</td>\n",
       "      <td>Alma Hills</td>\n",
       "      <td>Восточная, Европейская</td>\n",
       "      <td>Restolife</td>\n",
       "    </tr>\n",
       "    <tr>\n",
       "      <th>4</th>\n",
       "      <td>https://restolife.kz/restoran/prasad/</td>\n",
       "      <td>Prasad</td>\n",
       "      <td>Индийская, Вегетарианская</td>\n",
       "      <td>Restolife</td>\n",
       "    </tr>\n",
       "    <tr>\n",
       "      <th>...</th>\n",
       "      <td>...</td>\n",
       "      <td>...</td>\n",
       "      <td>...</td>\n",
       "      <td>...</td>\n",
       "    </tr>\n",
       "    <tr>\n",
       "      <th>208</th>\n",
       "      <td>https://restolife.kz/restoran/korean-house-na-...</td>\n",
       "      <td>Korean House на Гоголя</td>\n",
       "      <td>Корейская, Паназиатская, Японская</td>\n",
       "      <td>Restolife</td>\n",
       "    </tr>\n",
       "    <tr>\n",
       "      <th>209</th>\n",
       "      <td>https://restolife.kz/restoran/korean-house-v-e...</td>\n",
       "      <td>Korean House в Esentai Mall</td>\n",
       "      <td>Корейская, Паназиатская, Японская</td>\n",
       "      <td>Restolife</td>\n",
       "    </tr>\n",
       "    <tr>\n",
       "      <th>210</th>\n",
       "      <td>https://restolife.kz/restoran/del-papa-na-dost...</td>\n",
       "      <td>Del Papa на Достык</td>\n",
       "      <td>Итальянская</td>\n",
       "      <td>Restolife</td>\n",
       "    </tr>\n",
       "    <tr>\n",
       "      <th>211</th>\n",
       "      <td>https://restolife.kz/restoran/del-papa-na-bukh...</td>\n",
       "      <td>Del Papa на Бухар жырау</td>\n",
       "      <td>Итальянская</td>\n",
       "      <td>Restolife</td>\n",
       "    </tr>\n",
       "    <tr>\n",
       "      <th>212</th>\n",
       "      <td>https://restolife.kz/restoran/del-papa-v-mkr-o...</td>\n",
       "      <td>Del Papa в мкр-н. Орбита-3</td>\n",
       "      <td>Итальянская</td>\n",
       "      <td>Restolife</td>\n",
       "    </tr>\n",
       "  </tbody>\n",
       "</table>\n",
       "<p>213 rows × 4 columns</p>\n",
       "</div>"
      ],
      "text/plain": [
       "                                               Ссылка:  \\\n",
       "0               https://restolife.kz/restoran/agosto/    \n",
       "1    https://restolife.kz/restoran/laureate-grand-c...   \n",
       "2              https://restolife.kz/restoran/shukran/    \n",
       "3      https://restolife.kz/centr-otdykha/alma-hills/    \n",
       "4               https://restolife.kz/restoran/prasad/    \n",
       "..                                                 ...   \n",
       "208  https://restolife.kz/restoran/korean-house-na-...   \n",
       "209  https://restolife.kz/restoran/korean-house-v-e...   \n",
       "210  https://restolife.kz/restoran/del-papa-na-dost...   \n",
       "211  https://restolife.kz/restoran/del-papa-na-bukh...   \n",
       "212  https://restolife.kz/restoran/del-papa-v-mkr-o...   \n",
       "\n",
       "                        Заведения:                              Кухни:  \\\n",
       "0                          AGOSTO             Итальянская, Европейская   \n",
       "1             Laureate Grand Cafe            Европейская, Морепродукты   \n",
       "2                         SHUKRAN                            Ливанская   \n",
       "3                      Alma Hills               Восточная, Европейская   \n",
       "4                          Prasad            Индийская, Вегетарианская   \n",
       "..                             ...                                 ...   \n",
       "208        Korean House на Гоголя    Корейская, Паназиатская, Японская   \n",
       "209   Korean House в Esentai Mall    Корейская, Паназиатская, Японская   \n",
       "210            Del Papa на Достык                          Итальянская   \n",
       "211       Del Papa на Бухар жырау                          Итальянская   \n",
       "212    Del Papa в мкр-н. Орбита-3                          Итальянская   \n",
       "\n",
       "         Сайт:  \n",
       "0    Restolife  \n",
       "1    Restolife  \n",
       "2    Restolife  \n",
       "3    Restolife  \n",
       "4    Restolife  \n",
       "..         ...  \n",
       "208  Restolife  \n",
       "209  Restolife  \n",
       "210  Restolife  \n",
       "211  Restolife  \n",
       "212  Restolife  \n",
       "\n",
       "[213 rows x 4 columns]"
      ]
     },
     "execution_count": 86,
     "metadata": {},
     "output_type": "execute_result"
    }
   ],
   "source": [
    "df"
   ]
  },
  {
   "cell_type": "code",
   "execution_count": 87,
   "metadata": {},
   "outputs": [
    {
     "data": {
      "text/html": [
       "<div>\n",
       "<style scoped>\n",
       "    .dataframe tbody tr th:only-of-type {\n",
       "        vertical-align: middle;\n",
       "    }\n",
       "\n",
       "    .dataframe tbody tr th {\n",
       "        vertical-align: top;\n",
       "    }\n",
       "\n",
       "    .dataframe thead th {\n",
       "        text-align: right;\n",
       "    }\n",
       "</style>\n",
       "<table border=\"1\" class=\"dataframe\">\n",
       "  <thead>\n",
       "    <tr style=\"text-align: right;\">\n",
       "      <th></th>\n",
       "      <th>Сайт:</th>\n",
       "      <th>Ссылка:</th>\n",
       "      <th>Заведения:</th>\n",
       "      <th>Кухни:</th>\n",
       "    </tr>\n",
       "  </thead>\n",
       "  <tbody>\n",
       "    <tr>\n",
       "      <th>0</th>\n",
       "      <td>Restolife</td>\n",
       "      <td>https://restolife.kz/restoran/</td>\n",
       "      <td>Жасмин</td>\n",
       "      <td>Восточная, Европейская</td>\n",
       "    </tr>\n",
       "    <tr>\n",
       "      <th>1</th>\n",
       "      <td>Restolife</td>\n",
       "      <td>https://restolife.kz/restoran/</td>\n",
       "      <td>Император</td>\n",
       "      <td>Восточная, Европейская, Казахская</td>\n",
       "    </tr>\n",
       "    <tr>\n",
       "      <th>2</th>\n",
       "      <td>Restolife</td>\n",
       "      <td>https://restolife.kz/restoran/</td>\n",
       "      <td>Мирас</td>\n",
       "      <td>Восточная, Европейская, Казахская</td>\n",
       "    </tr>\n",
       "    <tr>\n",
       "      <th>3</th>\n",
       "      <td>Restolife</td>\n",
       "      <td>https://restolife.kz/restoran/</td>\n",
       "      <td>DAPANJI Bahyt</td>\n",
       "      <td>Китайская, Европейская</td>\n",
       "    </tr>\n",
       "    <tr>\n",
       "      <th>4</th>\n",
       "      <td>Restolife</td>\n",
       "      <td>https://restolife.kz/restoran/</td>\n",
       "      <td>Ocean Basket Esentai</td>\n",
       "      <td>Морепродукты, Средиземноморская, Японская</td>\n",
       "    </tr>\n",
       "    <tr>\n",
       "      <th>...</th>\n",
       "      <td>...</td>\n",
       "      <td>...</td>\n",
       "      <td>...</td>\n",
       "      <td>...</td>\n",
       "    </tr>\n",
       "    <tr>\n",
       "      <th>2824</th>\n",
       "      <td>Restolife</td>\n",
       "      <td>https://restolife.kz/letniaia-terrasa/</td>\n",
       "      <td>Дареджани на Навои</td>\n",
       "      <td>Грузинская</td>\n",
       "    </tr>\n",
       "    <tr>\n",
       "      <th>2825</th>\n",
       "      <td>Restolife</td>\n",
       "      <td>https://restolife.kz/letniaia-terrasa/</td>\n",
       "      <td>Дареджани на Достык</td>\n",
       "      <td>Грузинская</td>\n",
       "    </tr>\n",
       "    <tr>\n",
       "      <th>2826</th>\n",
       "      <td>Restolife</td>\n",
       "      <td>https://restolife.kz/letniaia-terrasa/</td>\n",
       "      <td>Тюбетейка Самал</td>\n",
       "      <td>Восточная, Казахская, Узбекская</td>\n",
       "    </tr>\n",
       "    <tr>\n",
       "      <th>2827</th>\n",
       "      <td>Restolife</td>\n",
       "      <td>https://restolife.kz/letniaia-terrasa/</td>\n",
       "      <td>Дареджани на Кунаева</td>\n",
       "      <td>Грузинская</td>\n",
       "    </tr>\n",
       "    <tr>\n",
       "      <th>2828</th>\n",
       "      <td>Restolife</td>\n",
       "      <td>https://restolife.kz/letniaia-terrasa/</td>\n",
       "      <td>Тюбетейка Весновка</td>\n",
       "      <td>Восточная, Казахская, Узбекская</td>\n",
       "    </tr>\n",
       "  </tbody>\n",
       "</table>\n",
       "<p>2829 rows × 4 columns</p>\n",
       "</div>"
      ],
      "text/plain": [
       "         Сайт:                                 Ссылка:            Заведения:   \\\n",
       "0     Restolife          https://restolife.kz/restoran/                Жасмин   \n",
       "1     Restolife          https://restolife.kz/restoran/             Император   \n",
       "2     Restolife          https://restolife.kz/restoran/                 Мирас   \n",
       "3     Restolife          https://restolife.kz/restoran/         DAPANJI Bahyt   \n",
       "4     Restolife          https://restolife.kz/restoran/  Ocean Basket Esentai   \n",
       "...         ...                                     ...                   ...   \n",
       "2824  Restolife  https://restolife.kz/letniaia-terrasa/    Дареджани на Навои   \n",
       "2825  Restolife  https://restolife.kz/letniaia-terrasa/   Дареджани на Достык   \n",
       "2826  Restolife  https://restolife.kz/letniaia-terrasa/       Тюбетейка Самал   \n",
       "2827  Restolife  https://restolife.kz/letniaia-terrasa/  Дареджани на Кунаева   \n",
       "2828  Restolife  https://restolife.kz/letniaia-terrasa/    Тюбетейка Весновка   \n",
       "\n",
       "                                        Кухни:   \n",
       "0                        Восточная, Европейская  \n",
       "1             Восточная, Европейская, Казахская  \n",
       "2             Восточная, Европейская, Казахская  \n",
       "3                        Китайская, Европейская  \n",
       "4     Морепродукты, Средиземноморская, Японская  \n",
       "...                                         ...  \n",
       "2824                                 Грузинская  \n",
       "2825                                 Грузинская  \n",
       "2826            Восточная, Казахская, Узбекская  \n",
       "2827                                 Грузинская  \n",
       "2828            Восточная, Казахская, Узбекская  \n",
       "\n",
       "[2829 rows x 4 columns]"
      ]
     },
     "execution_count": 87,
     "metadata": {},
     "output_type": "execute_result"
    }
   ],
   "source": [
    "file"
   ]
  },
  {
   "cell_type": "code",
   "execution_count": 90,
   "metadata": {},
   "outputs": [],
   "source": [
    "path = r\"/Users/nurmukhammed/Desktop/Parser/restolife.xlsx\"\n",
    "\n",
    "\n",
    "\n",
    "writer = pd.ExcelWriter(path, engine = 'xlsxwriter')\n",
    "file.to_excel(writer, sheet_name = 'old')\n",
    "df.to_excel(writer, sheet_name = 'new')\n",
    "writer.save()\n",
    "writer.close()"
   ]
  },
  {
   "cell_type": "code",
   "execution_count": null,
   "metadata": {},
   "outputs": [],
   "source": [
    "/Users/nurmukhammed/Desktop/Parser"
   ]
  }
 ],
 "metadata": {
  "kernelspec": {
   "display_name": "Python 3",
   "language": "python",
   "name": "python3"
  },
  "language_info": {
   "codemirror_mode": {
    "name": "ipython",
    "version": 3
   },
   "file_extension": ".py",
   "mimetype": "text/x-python",
   "name": "python",
   "nbconvert_exporter": "python",
   "pygments_lexer": "ipython3",
   "version": "3.8.5"
  }
 },
 "nbformat": 4,
 "nbformat_minor": 4
}
